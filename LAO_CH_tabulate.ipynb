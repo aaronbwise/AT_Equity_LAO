{
 "cells": [
  {
   "cell_type": "markdown",
   "metadata": {},
   "source": [
    "# Alive & Thrive\n",
    "## Viet Nam Data: Children Files - Tabulation\n",
    "## Prepared by Aaron Wise; aaron@a3di.dev\n",
    "### Version: 14 July 2022"
   ]
  },
  {
   "cell_type": "code",
   "execution_count": 10,
   "metadata": {},
   "outputs": [],
   "source": [
    "from pathlib import Path\n",
    "\n",
    "import numpy as np\n",
    "import pandas as pd\n",
    "\n",
    "pd.set_option(\"display.max_rows\", 1500)\n",
    "pd.set_option(\"display.max_columns\", None)\n",
    "\n",
    "import statsmodels.api as sm"
   ]
  },
  {
   "cell_type": "code",
   "execution_count": 11,
   "metadata": {},
   "outputs": [],
   "source": [
    "# %load tabulate_imports.py\n",
    "from tabulate_vars import (\n",
    "    read_csv_file,\n",
    "    concatenate_dfs,\n",
    "    save_combined,\n",
    "    create_bivariate_var_dep,\n",
    "    extract_regression_params\n",
    ")\n",
    "\n",
    "from aw_analytics import mean_wt, output_mean_table"
   ]
  },
  {
   "cell_type": "markdown",
   "metadata": {},
   "source": [
    "### Create and save combined children's file"
   ]
  },
  {
   "cell_type": "code",
   "execution_count": 12,
   "metadata": {},
   "outputs": [
    {
     "name": "stdout",
     "output_type": "stream",
     "text": [
      "The file -- LAO_children_2000_working.csv -- has the following shape: Rows: 5152; Columns: 31\n",
      "The file -- LAO_children_2006_working.csv -- has the following shape: Rows: 4136; Columns: 25\n",
      "The file -- LAO_children_2012_working.csv -- has the following shape: Rows: 11067; Columns: 34\n",
      "The file -- LAO_children_2017_working.csv -- has the following shape: Rows: 11720; Columns: 46\n"
     ]
    }
   ],
   "source": [
    "# Set parameters\n",
    "country = 'LAO'\n",
    "recode = 'children'\n",
    "\n",
    "# -------------------------------------------------------------------\n",
    "year_list = ['2000', '2006', '2012', '2017'] \n",
    "# -------------------------------------------------------------------\n",
    "\n",
    "\n",
    "# Read in files, store dfs in list\n",
    "list_of_dfs = [read_csv_file(country, recode, year, file_type='working') for year in year_list]\n",
    "\n",
    "# Combine the dfs\n",
    "df = concatenate_dfs(list_of_dfs)\n",
    "\n",
    "# Save and export\n",
    "save_combined(df, country, recode)"
   ]
  },
  {
   "cell_type": "markdown",
   "metadata": {},
   "source": [
    "### Run Descriptive stats"
   ]
  },
  {
   "cell_type": "code",
   "execution_count": null,
   "metadata": {},
   "outputs": [],
   "source": [
    "## TOTAL DATASET\n",
    "\n",
    "# Set parameters\n",
    "vars = ['excl_bf', 'cont_1223_bf', 'mdd_ch', 'mmf_ch', 'mad_ch', 'stunting_ch', 'wasting_ch', 'overweight_ch'] \n",
    "\n",
    "ind_vars = ['Total', 'sex_ch', 'residence', 'region', 'mother_edu', 'wealth_q', 'eth_hoh', 'elderly_hoh', 'sex_hoh']\n",
    "\n",
    "wt = 'chweight'\n",
    "\n",
    "# Run for loop\n",
    "\n",
    "for year in year_list:\n",
    "\n",
    "    df = read_csv_file(country, recode, year, file_type='working')\n",
    "\n",
    "    out_fn = country + \"_\" + recode + \"_\" + year + \".xlsx\"\n",
    "    path = Path.cwd() / 'output' / 'frequencies' / recode / out_fn\n",
    "    \n",
    "    # Instantiate object\n",
    "    xlwriter = pd.ExcelWriter(path)\n",
    "    \n",
    "    for var in vars:\n",
    "\n",
    "        try:\n",
    "            # df = df.dropna(subset=[var])\n",
    "            output = output_mean_table(df.dropna(subset=[var]), var, ind_vars, wt)\n",
    "            sheet_name = str(var) + '_weighted'\n",
    "            output.to_excel(xlwriter, sheet_name=sheet_name)\n",
    "        \n",
    "        except:\n",
    "            print(f\"Warning: Unable to create sheet for var {var}\")\n",
    "\n",
    "    xlwriter.close()"
   ]
  },
  {
   "cell_type": "markdown",
   "metadata": {},
   "source": [
    "### Run Bivariate stats"
   ]
  },
  {
   "cell_type": "code",
   "execution_count": 13,
   "metadata": {},
   "outputs": [
    {
     "name": "stdout",
     "output_type": "stream",
     "text": [
      "The file -- LAO_children_combined.csv -- has the following shape: Rows: 32075; Columns: 52\n"
     ]
    },
    {
     "name": "stderr",
     "output_type": "stream",
     "text": [
      "c:\\Users\\Lindsey\\OneDrive - A3DI\\Alive & Thrive\\3_Country_II\\tabulate_vars.py:38: DtypeWarning: Columns (22,24) have mixed types. Specify dtype option on import or set low_memory=False.\n",
      "  df = pd.read_csv(file_path)\n"
     ]
    }
   ],
   "source": [
    "# Read in combined file\n",
    "df = read_csv_file(country, recode, file_type='combined')\n",
    "\n",
    "# Create updated bivariate variables (mother_edu_biv, eth_hoh_biv)\n",
    "df = create_bivariate_var_dep(df, country)"
   ]
  },
  {
   "cell_type": "code",
   "execution_count": null,
   "metadata": {},
   "outputs": [],
   "source": [
    "# Set parameters\n",
    "recode = 'children'\n",
    "\n",
    "var_dep_list = ['excl_bf', 'cont_1223_bf', 'mdd_ch', 'mmf_ch', 'mad_ch', 'stunting_ch', 'wasting_ch', 'overweight_ch']\n",
    "\n",
    "ind_var_list = ['sex_ch', 'residence', 'region', 'mother_edu_biv', 'wealth_q', 'eth_hoh_biv', 'elderly_hoh', 'sex_hoh']\n",
    "\n",
    "# Run bivariate (extract WLS regression params)\n",
    "output = {var_dep: pd.DataFrame({ind_var: extract_regression_params(df, var_dep, ind_var, recode) for ind_var in ind_var_list}) for var_dep in var_dep_list}"
   ]
  },
  {
   "cell_type": "code",
   "execution_count": null,
   "metadata": {},
   "outputs": [],
   "source": [
    "# Generate csv of outputs\n",
    "for var in var_dep_list:\n",
    "    fn = var + '.csv'\n",
    "    output[var].transpose().to_csv(f\"./output/bivariate/{recode}/{fn}\")"
   ]
  },
  {
   "cell_type": "markdown",
   "metadata": {},
   "source": [
    "#### Get bivariate differences"
   ]
  },
  {
   "cell_type": "code",
   "execution_count": null,
   "metadata": {},
   "outputs": [],
   "source": [
    "df = read_csv_file(country, recode, file_type='combined')\n",
    "\n",
    "df = create_bivariate_var_dep(df, country)\n",
    "\n",
    "var_dep_list = ['excl_bf', 'cont_1223_bf', 'mdd_ch', 'mmf_ch', 'mad_ch', 'stunting_ch', 'wasting_ch', 'overweight_ch'] \n",
    "\n",
    "ind_var_list = ['sex_ch', 'residence', 'region', 'mother_edu_biv', 'wealth_q', 'eth_hoh_biv', 'elderly_hoh', 'sex_hoh']\n",
    "\n",
    "\n",
    "for var in var_dep_list:\n",
    "\n",
    "    out_fn = var + \"_bivariate_diff\" + \".xlsx\"\n",
    "    path = Path.cwd() / 'output' / 'bivariate' / recode / out_fn\n",
    "\n",
    "    # Instantiate object\n",
    "    xlwriter = pd.ExcelWriter(path)\n",
    "\n",
    "    for ind_var in ind_var_list:\n",
    "\n",
    "        output = df.groupby(['Year', ind_var]).apply(mean_wt, var, wt=wt)\n",
    "        \n",
    "        sheet_name = str(ind_var) + '_weighted'\n",
    "        output.to_excel(xlwriter, sheet_name=sheet_name)\n",
    "\n",
    "    xlwriter.close()"
   ]
  },
  {
   "cell_type": "code",
   "execution_count": null,
   "metadata": {},
   "outputs": [],
   "source": []
  },
  {
   "cell_type": "code",
   "execution_count": null,
   "metadata": {},
   "outputs": [],
   "source": []
  }
 ],
 "metadata": {
  "kernelspec": {
   "display_name": "Python 3.10.4 64-bit",
   "language": "python",
   "name": "python3"
  },
  "language_info": {
   "codemirror_mode": {
    "name": "ipython",
    "version": 3
   },
   "file_extension": ".py",
   "mimetype": "text/x-python",
   "name": "python",
   "nbconvert_exporter": "python",
   "pygments_lexer": "ipython3",
   "version": "3.10.4"
  },
  "orig_nbformat": 4,
  "vscode": {
   "interpreter": {
    "hash": "d1219f75a05e3de399f75b6a0fa3fc1e1cfa3d08777c7149c1fd01787d780976"
   }
  }
 },
 "nbformat": 4,
 "nbformat_minor": 2
}
