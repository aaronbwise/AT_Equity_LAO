{
 "cells": [
  {
   "cell_type": "markdown",
   "metadata": {},
   "source": [
    "## Extract HL variables for equity stratifiers\n",
    "### ** Age and Sex HoH **"
   ]
  },
  {
   "cell_type": "code",
   "execution_count": 6,
   "metadata": {},
   "outputs": [],
   "source": [
    "from std_utils import (\n",
    "    read_spss_file, \n",
    "    generate_HHID, \n",
    "    subset_hl_df, \n",
    "    standardize_col_names, \n",
    "    standardize_col_values, \n",
    "    create_elderly_hoh, \n",
    "    save_merge, \n",
    "    generate_MEMID, \n",
    "    subset_edu_save\n",
    ")\n",
    "\n",
    "import pandas as pd"
   ]
  },
  {
   "cell_type": "code",
   "execution_count": 7,
   "metadata": {},
   "outputs": [],
   "source": [
    "## Set parameters\n",
    "country = 'LAO'\n",
    "recode = 'listing'\n",
    "var_subset = 'relationship_hoh'\n",
    "var_rename = ['elderly_hoh', 'sex_hoh']\n",
    "var_replace = ['sex_hoh']\n",
    "\n",
    "# -------------------------------------------------------------------\n",
    "year_list = ['2000', '2006', '2012', '2017']\n",
    "# -------------------------------------------------------------------\n"
   ]
  },
  {
   "cell_type": "code",
   "execution_count": 8,
   "metadata": {},
   "outputs": [],
   "source": [
    "# # Read file\n",
    "# df = read_spss_file(country, year, recode)\n",
    "\n",
    "# # Create HHID to facilitate merge of HH and HL data\n",
    "# generate_HHID(df, country, year, recode)\n",
    "\n",
    "# # Subset df\n",
    "# df = subset_hl_df(df, country, year, recode, var_subset)\n",
    "\n",
    "# # Standardize column names\n",
    "# df = standardize_col_names(df, country, year, recode, var_rename)\n",
    "\n",
    "# # Standardize column values\n",
    "# df = standardize_col_values(df, country, year, recode, var_replace)\n",
    "\n",
    "# # Create Elderly HoH\n",
    "# df = create_elderly_hoh(df, var_rename[0])\n",
    "\n",
    "# # Save to merge folder\n",
    "# save_merge(df, country, year, recode)"
   ]
  },
  {
   "cell_type": "code",
   "execution_count": 9,
   "metadata": {},
   "outputs": [],
   "source": [
    "# # Read file\n",
    "# df = read_spss_file(country, year, recode)\n",
    "\n",
    "# # Create HHID to facilitate merge of HH and HL data\n",
    "# generate_HHID(df, country, year, recode)\n",
    "\n",
    "# # Create MEMID\n",
    "# generate_MEMID(df, country, year, recode)\n",
    "\n",
    "# # Save to merge folder\n",
    "# subset_edu_save(df, country, year, recode)"
   ]
  },
  {
   "cell_type": "code",
   "execution_count": 10,
   "metadata": {},
   "outputs": [
    {
     "name": "stdout",
     "output_type": "stream",
     "text": [
      "The file -- hl_2000.sav -- has the following shape: Rows: 38511; Columns: 186\n",
      "HHID is NOT unique\n",
      "The merge variable *HHID* is unique: False\n",
      "The file -- hl_2006.sav -- has the following shape: Rows: 33551; Columns: 129\n",
      "HHID is NOT unique\n",
      "The merge variable *HHID* is unique: True\n",
      "The file -- hl_2012.sav -- has the following shape: Rows: 98440; Columns: 62\n",
      "HHID is NOT unique\n",
      "The merge variable *HHID* is unique: True\n",
      "The file -- hl_2017.sav -- has the following shape: Rows: 106623; Columns: 85\n",
      "HHID is NOT unique\n",
      "The merge variable *HHID* is unique: True\n"
     ]
    }
   ],
   "source": [
    "# Extract data for HL\n",
    "\n",
    "for year in year_list:\n",
    "\n",
    "    # Read file\n",
    "    df = read_spss_file(country, year, recode)\n",
    "\n",
    "    # Create HHID to facilitate merge of HH and HL data\n",
    "    generate_HHID(df, country, year, recode)\n",
    "\n",
    "    # Subset df\n",
    "    df = subset_hl_df(df, country, year, recode, var_subset)\n",
    "\n",
    "    # Standardize column names\n",
    "    df = standardize_col_names(df, country, year, recode, var_rename)\n",
    "\n",
    "    # Standardize column values\n",
    "    df = standardize_col_values(df, country, year, recode, var_replace)\n",
    "\n",
    "    # Create Elderly HoH\n",
    "    df = create_elderly_hoh(df, var_rename[0])\n",
    "\n",
    "    # Save to merge folder\n",
    "    save_merge(df, country, year, recode)"
   ]
  },
  {
   "cell_type": "code",
   "execution_count": 11,
   "metadata": {},
   "outputs": [
    {
     "name": "stdout",
     "output_type": "stream",
     "text": [
      "The file -- hl_2000.sav -- has the following shape: Rows: 38511; Columns: 186\n",
      "HHID is NOT unique\n",
      "MEMID is unique\n",
      "The file -- hl_2006.sav -- has the following shape: Rows: 33551; Columns: 129\n",
      "HHID is NOT unique\n",
      "MEMID is unique\n",
      "The file -- hl_2012.sav -- has the following shape: Rows: 98440; Columns: 62\n",
      "HHID is NOT unique\n",
      "MEMID is unique\n",
      "The file -- hl_2017.sav -- has the following shape: Rows: 106623; Columns: 85\n",
      "HHID is NOT unique\n",
      "MEMID is unique\n"
     ]
    }
   ],
   "source": [
    "# Generate MEMID for extract mother edu data\n",
    "\n",
    "for year in year_list:\n",
    "\n",
    "    # Read file\n",
    "    df = read_spss_file(country, year, recode)\n",
    "\n",
    "    # Create HHID to facilitate merge of HH and HL data\n",
    "    generate_HHID(df, country, year, recode)\n",
    "\n",
    "    # Create MEMID\n",
    "    generate_MEMID(df, country, year, recode)\n",
    "\n",
    "    # Save to merge folder\n",
    "    subset_edu_save(df, country, year, recode)"
   ]
  },
  {
   "cell_type": "code",
   "execution_count": null,
   "metadata": {},
   "outputs": [],
   "source": []
  }
 ],
 "metadata": {
  "interpreter": {
   "hash": "d1219f75a05e3de399f75b6a0fa3fc1e1cfa3d08777c7149c1fd01787d780976"
  },
  "kernelspec": {
   "display_name": "Python 3.10.4 64-bit",
   "language": "python",
   "name": "python3"
  },
  "language_info": {
   "codemirror_mode": {
    "name": "ipython",
    "version": 3
   },
   "file_extension": ".py",
   "mimetype": "text/x-python",
   "name": "python",
   "nbconvert_exporter": "python",
   "pygments_lexer": "ipython3",
   "version": "3.10.4"
  },
  "orig_nbformat": 4
 },
 "nbformat": 4,
 "nbformat_minor": 2
}
