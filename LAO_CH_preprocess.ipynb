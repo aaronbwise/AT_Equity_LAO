{
 "cells": [
  {
   "cell_type": "markdown",
   "metadata": {},
   "source": [
    "# Alive & Thrive\n",
    "## Laos Data: Child Files - Preprocessing\n",
    "## Prepared by Aaron Wise; aaron@a3di.dev\n",
    "### Version: 30 September 2022"
   ]
  },
  {
   "cell_type": "code",
   "execution_count": 1,
   "metadata": {},
   "outputs": [],
   "source": [
    "from std_utils import (\n",
    "    read_spss_file,\n",
    "    generate_HHID,\n",
    "    add_total_year,\n",
    "    run_quality_assurance,\n",
    "    merge_hh_hl_data,\n",
    "    export_analyzed_data\n",
    ")\n",
    "\n",
    "from children_analysis import (\n",
    "    subset_children_file,\n",
    "    generate_MOMID,\n",
    "    merge_mother_edu,\n",
    "    create_sex_ch,\n",
    "    create_ch_age_cat,\n",
    "    create_excl_bf,\n",
    "    create_cont_1223_bf,\n",
    "    create_mdd_ch,\n",
    "    create_mmf_ch,\n",
    "    create_mad_ch,\n",
    "    create_stunting_ch,\n",
    "    create_wasting_ch,\n",
    "    create_overweight_ch,\n",
    "    update_flag_value\n",
    ")\n",
    "\n",
    "from women_analysis import create_mother_edu\n",
    "from aw_analytics import mean_wt , output_mean_table\n",
    "\n",
    "import numpy as np\n",
    "import pandas as pd\n",
    "\n",
    "pd.set_option(\"display.max_rows\", 1500)\n",
    "pd.set_option(\"display.max_columns\", None)\n"
   ]
  },
  {
   "cell_type": "markdown",
   "metadata": {},
   "source": [
    "### --- 2017 ---"
   ]
  },
  {
   "cell_type": "code",
   "execution_count": null,
   "metadata": {},
   "outputs": [],
   "source": [
    "# Set parameters\n",
    "country = 'LAO'\n",
    "recode = 'children'\n",
    "\n",
    "# -------------------------------------------------------------------\n",
    "year = '2017'\n",
    "# -------------------------------------------------------------------"
   ]
  },
  {
   "cell_type": "code",
   "execution_count": null,
   "metadata": {},
   "outputs": [],
   "source": [
    "# Read file\n",
    "df = read_spss_file(country, year, recode)\n",
    "\n",
    "# Create HHID to facilitate merge of HH and HL data\n",
    "generate_HHID(df, country, year, recode)\n",
    "\n",
    "# Create WMID to facilitate merge into U5 file\n",
    "generate_MOMID(df, country, year)\n",
    "\n",
    "# Add Total, Year\n",
    "add_total_year(df, year)\n",
    "\n",
    "# Run quality assurance\n",
    "run_quality_assurance(df)\n",
    "\n",
    "# Merge in HH and HL data\n",
    "df = merge_hh_hl_data(df, country, year)\n",
    "\n",
    "# Merge in Mother Education data\n",
    "df = merge_mother_edu(df, country, year)\n",
    "\n",
    "# Subset children's file (completed)\n",
    "df = subset_children_file(df, country, year)"
   ]
  },
  {
   "cell_type": "markdown",
   "metadata": {},
   "source": [
    "#### Create Indicators"
   ]
  },
  {
   "cell_type": "code",
   "execution_count": null,
   "metadata": {},
   "outputs": [],
   "source": [
    "# --- Child Sex [sex_ch] --- #\n",
    "df = create_sex_ch(df, country, year)\n",
    "\n",
    "# --- Mother Education [mother_edu] --- #\n",
    "df = create_mother_edu(df, country, year, recode = 'children')\n",
    "\n",
    "# --- Age categories [ch_age_cat_X] --- #\n",
    "df = create_ch_age_cat(df, country, year)"
   ]
  },
  {
   "cell_type": "code",
   "execution_count": null,
   "metadata": {},
   "outputs": [],
   "source": [
    "# --- Exclusive BF [excl_bf] --- #\n",
    "df = create_excl_bf(df, country, year)\n",
    "\n",
    "# --- Continued Breastfeeding 12-23 mos [cont_1223_bf] --- #\n",
    "df = create_cont_1223_bf(df)\n",
    "\n",
    "# --- Minimum Dietary Diversity [mdd_ch] --- #\n",
    "df = create_mdd_ch(df, country, year)\n",
    "\n",
    "# --- Minimum Meal Frequency [mmf_ch] --- #\n",
    "df = create_mmf_ch(df, country, year)\n",
    "\n",
    "# --- Minimum Acceptable Diet [mad_ch] --- #\n",
    "df = create_mad_ch(df)"
   ]
  },
  {
   "cell_type": "markdown",
   "metadata": {},
   "source": [
    "#### ANTHROPOMETRY"
   ]
  },
  {
   "cell_type": "code",
   "execution_count": null,
   "metadata": {},
   "outputs": [],
   "source": [
    "# --- Child Stunting (< -2SD) [stunting_ch] --- #\n",
    "df = create_stunting_ch(df, country, year)\n",
    "\n",
    "# --- Child Wasting (< -2SD) [wasting_ch] --- #\n",
    "df = create_wasting_ch(df, country, year)\n",
    "\n",
    "# --- Child Overweight (> 2SD) [overweight_ch] --- #\n",
    "df = create_overweight_ch(df, country, year)"
   ]
  },
  {
   "cell_type": "markdown",
   "metadata": {},
   "source": [
    "#### Subset and export working dataset"
   ]
  },
  {
   "cell_type": "code",
   "execution_count": null,
   "metadata": {},
   "outputs": [],
   "source": [
    "export_analyzed_data(df, country, year, recode)"
   ]
  },
  {
   "cell_type": "markdown",
   "metadata": {},
   "source": [
    "### --- 2012 ---"
   ]
  },
  {
   "cell_type": "code",
   "execution_count": null,
   "metadata": {},
   "outputs": [],
   "source": [
    "# Set parameters\n",
    "country = 'LAO'\n",
    "recode = 'children'\n",
    "\n",
    "# -------------------------------------------------------------------\n",
    "year = '2012'\n",
    "# -------------------------------------------------------------------"
   ]
  },
  {
   "cell_type": "code",
   "execution_count": null,
   "metadata": {},
   "outputs": [],
   "source": [
    "# Read file\n",
    "df = read_spss_file(country, year, recode)\n",
    "\n",
    "# Create HHID to facilitate merge of HH and HL data\n",
    "generate_HHID(df, country, year, recode)\n",
    "\n",
    "# Create WMID to facilitate merge into U5 file\n",
    "generate_MOMID(df, country, year)\n",
    "\n",
    "# Add Total, Year\n",
    "add_total_year(df, year)\n",
    "\n",
    "# Run quality assurance\n",
    "run_quality_assurance(df)\n",
    "\n",
    "# Merge in HH and HL data\n",
    "df = merge_hh_hl_data(df, country, year)\n",
    "\n",
    "# Merge in Mother Education data\n",
    "df = merge_mother_edu(df, country, year)\n",
    "\n",
    "# Subset children's file (completed)\n",
    "df = subset_children_file(df, country, year)"
   ]
  },
  {
   "cell_type": "markdown",
   "metadata": {},
   "source": [
    "#### Create indicators"
   ]
  },
  {
   "cell_type": "code",
   "execution_count": null,
   "metadata": {},
   "outputs": [],
   "source": [
    "# --- Child Sex [sex_ch] --- #\n",
    "df = create_sex_ch(df, country, year)\n",
    "\n",
    "# --- Mother Education [mother_edu] --- #\n",
    "df = create_mother_edu(df, country, year, recode='children')\n",
    "\n",
    "# --- Age categories [ch_age_cat_X] --- #\n",
    "df = create_ch_age_cat(df, country, year)"
   ]
  },
  {
   "cell_type": "code",
   "execution_count": null,
   "metadata": {},
   "outputs": [],
   "source": [
    "# --- Exclusive BF [excl_bf] --- #\n",
    "df = create_excl_bf(df, country, year)\n",
    "\n",
    "# --- Continued Breastfeeding 12-23 mos [cont_1223_bf] --- #\n",
    "df = create_cont_1223_bf(df)\n",
    "\n",
    "# # --- Minimum Dietary Diversity [mdd_ch] --- #\n",
    "# df = create_mdd_ch(df, country, year)\n",
    "\n",
    "# --- Minimum Meal Frequency [mmf_ch] --- #\n",
    "df = create_mmf_ch(df, country, year)\n",
    "\n",
    "# # --- Minimum Acceptable Diet [mad_ch] --- #\n",
    "# df = create_mad_ch(df)"
   ]
  },
  {
   "cell_type": "markdown",
   "metadata": {},
   "source": [
    "#### ANTHROPOMETRY"
   ]
  },
  {
   "cell_type": "code",
   "execution_count": null,
   "metadata": {},
   "outputs": [],
   "source": [
    "# --- Child Stunting (< -2SD) [stunting_ch] --- #\n",
    "df = create_stunting_ch(df, country, year)\n",
    "\n",
    "# --- Child Wasting (< -2SD) [wasting_ch] --- #\n",
    "df = create_wasting_ch(df, country, year)\n",
    "\n",
    "# --- Child Overweight (> 2SD) [overweight_ch] --- #\n",
    "df = create_overweight_ch(df, country, year)"
   ]
  },
  {
   "cell_type": "markdown",
   "metadata": {},
   "source": [
    "#### Subset and export working dataset"
   ]
  },
  {
   "cell_type": "code",
   "execution_count": null,
   "metadata": {},
   "outputs": [],
   "source": [
    "export_analyzed_data(df, country, year, recode)"
   ]
  },
  {
   "cell_type": "markdown",
   "metadata": {},
   "source": [
    "### --- 2006 ---"
   ]
  },
  {
   "cell_type": "code",
   "execution_count": null,
   "metadata": {},
   "outputs": [],
   "source": [
    "# Set parameters\n",
    "country = 'LAO'\n",
    "recode = 'children'\n",
    "\n",
    "# -------------------------------------------------------------------\n",
    "year = '2006'\n",
    "# -------------------------------------------------------------------"
   ]
  },
  {
   "cell_type": "code",
   "execution_count": null,
   "metadata": {},
   "outputs": [],
   "source": [
    "# Read file\n",
    "df = read_spss_file(country, year, recode)\n",
    "\n",
    "# Create HHID to facilitate merge of HH and HL data\n",
    "generate_HHID(df, country, year, recode)\n",
    "\n",
    "# Create WMID to facilitate merge into U5 file\n",
    "generate_MOMID(df, country, year)\n",
    "\n",
    "# Add Total, Year\n",
    "add_total_year(df, year)\n",
    "\n",
    "# Run quality assurance\n",
    "run_quality_assurance(df)\n",
    "\n",
    "# Merge in HH and HL data\n",
    "df = merge_hh_hl_data(df, country, year)\n",
    "\n",
    "# Merge in Mother Education data\n",
    "df = merge_mother_edu(df, country, year)\n",
    "\n",
    "# Subset children's file (completed)\n",
    "df = subset_children_file(df, country, year)"
   ]
  },
  {
   "cell_type": "markdown",
   "metadata": {},
   "source": [
    "#### Create indicators"
   ]
  },
  {
   "cell_type": "code",
   "execution_count": null,
   "metadata": {},
   "outputs": [],
   "source": [
    "# --- Child Sex [sex_ch] --- #\n",
    "df = create_sex_ch(df, country, year)\n",
    "\n",
    "# --- Mother Education [mother_edu] --- #\n",
    "df = create_mother_edu(df, country, year, recode='children')\n",
    "\n",
    "# --- Age categories [ch_age_cat_X] --- #\n",
    "df = create_ch_age_cat(df, country, year)"
   ]
  },
  {
   "cell_type": "code",
   "execution_count": null,
   "metadata": {},
   "outputs": [],
   "source": [
    "# --- Exclusive BF [excl_bf] --- #\n",
    "df = create_excl_bf(df, country, year)\n",
    "\n",
    "# --- Continued Breastfeeding 12-23 mos [cont_1223_bf] --- #\n",
    "df = create_cont_1223_bf(df)\n",
    "\n",
    "# # --- Minimum Dietary Diversity [mdd_ch] --- #\n",
    "# df = create_mdd_ch(df, country, year)\n",
    "\n",
    "# # --- Minimum Meal Frequency [mmf_ch] --- #\n",
    "# df = create_mmf_ch(df, country, year)\n",
    "\n",
    "# # --- Minimum Acceptable Diet [mad_ch] --- #\n",
    "# df = create_mad_ch(df)"
   ]
  },
  {
   "cell_type": "markdown",
   "metadata": {},
   "source": [
    "#### ANTHROPOMETRY"
   ]
  },
  {
   "cell_type": "code",
   "execution_count": null,
   "metadata": {},
   "outputs": [],
   "source": [
    "df = update_flag_value(df, country, year)"
   ]
  },
  {
   "cell_type": "code",
   "execution_count": null,
   "metadata": {},
   "outputs": [],
   "source": [
    "# --- Child Stunting (< -2SD) [stunting_ch] --- #\n",
    "df = create_stunting_ch(df, country, year)\n",
    "\n",
    "# --- Child Wasting (< -2SD) [wasting_ch] --- #\n",
    "df = create_wasting_ch(df, country, year)\n",
    "\n",
    "# --- Child Overweight (> 2SD) [overweight_ch] --- #\n",
    "df = create_overweight_ch(df, country, year)"
   ]
  },
  {
   "cell_type": "markdown",
   "metadata": {},
   "source": [
    "#### Subset and export working dataset"
   ]
  },
  {
   "cell_type": "code",
   "execution_count": null,
   "metadata": {},
   "outputs": [],
   "source": [
    "export_analyzed_data(df, country, year, recode)"
   ]
  },
  {
   "cell_type": "markdown",
   "metadata": {},
   "source": [
    "### --- 2000 ---"
   ]
  },
  {
   "cell_type": "code",
   "execution_count": 17,
   "metadata": {},
   "outputs": [],
   "source": [
    "# Set parameters\n",
    "country = 'LAO'\n",
    "recode = 'children'\n",
    "\n",
    "# -------------------------------------------------------------------\n",
    "year = '2000'\n",
    "# -------------------------------------------------------------------"
   ]
  },
  {
   "cell_type": "code",
   "execution_count": 18,
   "metadata": {},
   "outputs": [
    {
     "name": "stdout",
     "output_type": "stream",
     "text": [
      "The file -- ch_2000.sav -- has the following shape: Rows: 5125; Columns: 304\n",
      "HHID is NOT unique\n",
      "MOMID is NOT unique\n",
      "Drop columns if all values are NaN...\n",
      "Updated -- Rows: 5125; Columns: 306\n",
      "Checking if any rows are duplicates...\n",
      "The are no duplicate rows\n"
     ]
    }
   ],
   "source": [
    "# Read file\n",
    "df = read_spss_file(country, year, recode)\n",
    "\n",
    "# Create HHID to facilitate merge of HH and HL data\n",
    "generate_HHID(df, country, year, recode)\n",
    "\n",
    "# Create WMID to facilitate merge into U5 file\n",
    "generate_MOMID(df, country, year)\n",
    "\n",
    "# Add Total, Year\n",
    "add_total_year(df, year)\n",
    "\n",
    "# Run quality assurance\n",
    "run_quality_assurance(df)\n",
    "\n",
    "# Merge in HH and HL data\n",
    "df = merge_hh_hl_data(df, country, year)\n",
    "\n",
    "# Merge in Mother Education data\n",
    "df = merge_mother_edu(df, country, year)\n",
    "\n",
    "# # Subset children's file (completed)\n",
    "# df = subset_children_file(df, country, year)"
   ]
  },
  {
   "cell_type": "markdown",
   "metadata": {},
   "source": [
    "#### Create indicators"
   ]
  },
  {
   "cell_type": "code",
   "execution_count": 19,
   "metadata": {},
   "outputs": [],
   "source": [
    "# --- Child Sex [sex_ch] --- #\n",
    "df = create_sex_ch(df, country, year)\n",
    "\n",
    "# --- Mother Education [mother_edu] --- #\n",
    "df = create_mother_edu(df, country, year, recode='children')\n",
    "\n",
    "# --- Age categories [ch_age_cat_X] --- #\n",
    "df = create_ch_age_cat(df, country, year)"
   ]
  },
  {
   "cell_type": "code",
   "execution_count": 20,
   "metadata": {},
   "outputs": [],
   "source": [
    "# --- Exclusive BF [excl_bf] --- #\n",
    "df = create_excl_bf(df, country, year)\n",
    "\n",
    "# --- Continued Breastfeeding 12-23 mos [cont_1223_bf] --- #\n",
    "df = create_cont_1223_bf(df)\n",
    "\n",
    "# # --- Minimum Dietary Diversity [mdd_ch] --- #\n",
    "# df = create_mdd_ch(df, country, year)\n",
    "\n",
    "# # --- Minimum Meal Frequency [mmf_ch] --- #\n",
    "# df = create_mmf_ch(df, country, year)\n",
    "\n",
    "# # --- Minimum Acceptable Diet [mad_ch] --- #\n",
    "# df = create_mad_ch(df)"
   ]
  },
  {
   "cell_type": "markdown",
   "metadata": {},
   "source": [
    "#### ANTHROPOMETRY"
   ]
  },
  {
   "cell_type": "code",
   "execution_count": 21,
   "metadata": {},
   "outputs": [
    {
     "name": "stderr",
     "output_type": "stream",
     "text": [
      "C:\\Users\\Lindsey\\AppData\\Local\\Temp\\ipykernel_7688\\2046178631.py:6: FutureWarning: The default value of regex will change from True to False in a future version.\n",
      "  df['HHMID'] = df['HHMID'].astype(str).str.replace(\"\\.0\", \"\")\n"
     ]
    }
   ],
   "source": [
    "# Merge in zscores generated in R\n",
    "z_cols = ['HHMID', 'zlen', 'flen', 'zwei', 'fwei', 'zwfl', 'fwfl']\n",
    "zscores = pd.read_csv(\"./data/2000/children/zscores.csv\", dtype={'HHMID': str}, usecols=z_cols)\n",
    "\n",
    "\n",
    "df['HHMID'] = df['HHMID'].astype(str).str.replace(\"\\.0\", \"\")\n",
    "\n",
    "df = pd.merge(df, zscores, left_on='HHMID', right_on='HHMID', how='left')\n"
   ]
  },
  {
   "cell_type": "code",
   "execution_count": 22,
   "metadata": {},
   "outputs": [],
   "source": [
    "df = update_flag_value(df, country, year)"
   ]
  },
  {
   "cell_type": "code",
   "execution_count": 23,
   "metadata": {},
   "outputs": [],
   "source": [
    "# --- Child Stunting (< -2SD) [stunting_ch] --- #\n",
    "df = create_stunting_ch(df, country, year)\n",
    "\n",
    "# --- Child Wasting (< -2SD) [wasting_ch] --- #\n",
    "df = create_wasting_ch(df, country, year)\n",
    "\n",
    "# --- Child Overweight (> 2SD) [overweight_ch] --- #\n",
    "df = create_overweight_ch(df, country, year)"
   ]
  },
  {
   "cell_type": "markdown",
   "metadata": {},
   "source": [
    "#### Subset and export working dataset"
   ]
  },
  {
   "cell_type": "code",
   "execution_count": 24,
   "metadata": {},
   "outputs": [],
   "source": [
    "export_analyzed_data(df, country, year, recode)"
   ]
  },
  {
   "cell_type": "code",
   "execution_count": null,
   "metadata": {},
   "outputs": [],
   "source": []
  },
  {
   "cell_type": "code",
   "execution_count": null,
   "metadata": {},
   "outputs": [],
   "source": []
  },
  {
   "cell_type": "code",
   "execution_count": 25,
   "metadata": {},
   "outputs": [
    {
     "data": {
      "text/plain": [
       "(1405, 338)"
      ]
     },
     "execution_count": 25,
     "metadata": {},
     "output_type": "execute_result"
    }
   ],
   "source": [
    "## Drop rows if zlen missing\n",
    "df_haz_clean = df[df['zlen'].notnull()]\n",
    "df_haz_clean.shape"
   ]
  },
  {
   "cell_type": "code",
   "execution_count": 33,
   "metadata": {},
   "outputs": [
    {
     "data": {
      "text/html": [
       "<div>\n",
       "<style scoped>\n",
       "    .dataframe tbody tr th:only-of-type {\n",
       "        vertical-align: middle;\n",
       "    }\n",
       "\n",
       "    .dataframe tbody tr th {\n",
       "        vertical-align: top;\n",
       "    }\n",
       "\n",
       "    .dataframe thead th {\n",
       "        text-align: right;\n",
       "    }\n",
       "</style>\n",
       "<table border=\"1\" class=\"dataframe\">\n",
       "  <thead>\n",
       "    <tr style=\"text-align: right;\">\n",
       "      <th></th>\n",
       "      <th>stunting_ch</th>\n",
       "      <th>Weighted_Count</th>\n",
       "    </tr>\n",
       "    <tr>\n",
       "      <th>sex_ch</th>\n",
       "      <th></th>\n",
       "      <th></th>\n",
       "    </tr>\n",
       "  </thead>\n",
       "  <tbody>\n",
       "    <tr>\n",
       "      <th>CH Sex: Female</th>\n",
       "      <td>46.9</td>\n",
       "      <td>711.2</td>\n",
       "    </tr>\n",
       "    <tr>\n",
       "      <th>CH Sex: Male</th>\n",
       "      <td>48.6</td>\n",
       "      <td>687.1</td>\n",
       "    </tr>\n",
       "  </tbody>\n",
       "</table>\n",
       "</div>"
      ],
      "text/plain": [
       "                stunting_ch  Weighted_Count\n",
       "sex_ch                                     \n",
       "CH Sex: Female         46.9           711.2\n",
       "CH Sex: Male           48.6           687.1"
      ]
     },
     "execution_count": 33,
     "metadata": {},
     "output_type": "execute_result"
    }
   ],
   "source": [
    "var = 'stunting_ch'\n",
    "ind_vars = ['sex_ch']\n",
    "weight = ['CHWEIGHT']\n",
    "\n",
    "output_mean_table(df_haz_clean, var, ind_vars, weight)"
   ]
  },
  {
   "cell_type": "code",
   "execution_count": null,
   "metadata": {},
   "outputs": [],
   "source": []
  }
 ],
 "metadata": {
  "interpreter": {
   "hash": "d1219f75a05e3de399f75b6a0fa3fc1e1cfa3d08777c7149c1fd01787d780976"
  },
  "kernelspec": {
   "display_name": "Python 3.10.4 64-bit",
   "language": "python",
   "name": "python3"
  },
  "language_info": {
   "codemirror_mode": {
    "name": "ipython",
    "version": 3
   },
   "file_extension": ".py",
   "mimetype": "text/x-python",
   "name": "python",
   "nbconvert_exporter": "python",
   "pygments_lexer": "ipython3",
   "version": "3.10.4"
  },
  "orig_nbformat": 4
 },
 "nbformat": 4,
 "nbformat_minor": 2
}
