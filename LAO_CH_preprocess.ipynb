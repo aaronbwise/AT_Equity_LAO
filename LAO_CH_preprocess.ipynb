{
 "cells": [
  {
   "cell_type": "markdown",
   "metadata": {},
   "source": [
    "# Alive & Thrive\n",
    "## Laos Data: Child Files - Preprocessing\n",
    "## Prepared by Aaron Wise; aaron@a3di.dev\n",
    "### Version: 30 September 2022"
   ]
  },
  {
   "cell_type": "code",
   "execution_count": 2,
   "metadata": {},
   "outputs": [],
   "source": [
    "from std_utils import (\n",
    "    read_spss_file,\n",
    "    generate_HHID,\n",
    "    add_total_year,\n",
    "    run_quality_assurance,\n",
    "    merge_hh_hl_data,\n",
    "    export_analyzed_data\n",
    ")\n",
    "\n",
    "from children_analysis import (\n",
    "    subset_children_file,\n",
    "    generate_MOMID,\n",
    "    merge_mother_edu,\n",
    "    create_sex_ch,\n",
    "    create_ch_age_cat,\n",
    "    create_excl_bf,\n",
    "    create_cont_1223_bf,\n",
    "    create_mdd_ch,\n",
    "    create_mmf_ch,\n",
    "    create_mad_ch,\n",
    "    create_stunting_ch,\n",
    "    create_wasting_ch,\n",
    "    create_overweight_ch\n",
    ")\n",
    "\n",
    "from women_analysis import create_mother_edu\n",
    "from aw_analytics import mean_wt , output_mean_table\n",
    "\n",
    "import numpy as np\n",
    "import pandas as pd\n",
    "\n",
    "pd.set_option(\"display.max_rows\", 1500)\n",
    "pd.set_option(\"display.max_columns\", None)\n"
   ]
  },
  {
   "cell_type": "markdown",
   "metadata": {},
   "source": [
    "### --- 2017 ---"
   ]
  },
  {
   "cell_type": "code",
   "execution_count": 3,
   "metadata": {},
   "outputs": [],
   "source": [
    "# Set parameters\n",
    "country = 'LAO'\n",
    "recode = 'children'\n",
    "\n",
    "# -------------------------------------------------------------------\n",
    "year = '2017'\n",
    "# -------------------------------------------------------------------"
   ]
  },
  {
   "cell_type": "code",
   "execution_count": 4,
   "metadata": {},
   "outputs": [
    {
     "name": "stdout",
     "output_type": "stream",
     "text": [
      "The file -- ch_2017.sav -- has the following shape: Rows: 11812; Columns: 443\n",
      "HHID is NOT unique\n",
      "MOMID is NOT unique\n",
      "Drop columns if all values are NaN...\n",
      "Updated -- Rows: 11812; Columns: 447\n",
      "Checking if any rows are duplicates...\n",
      "The are no duplicate rows\n",
      "The number of children with a completed survey is: 11720\n"
     ]
    }
   ],
   "source": [
    "# Read file\n",
    "df = read_spss_file(country, year, recode)\n",
    "\n",
    "# Create HHID to facilitate merge of HH and HL data\n",
    "generate_HHID(df, country, year, recode)\n",
    "\n",
    "# Create WMID to facilitate merge into U5 file\n",
    "generate_MOMID(df, country, year)\n",
    "\n",
    "# Add Total, Year\n",
    "add_total_year(df, year)\n",
    "\n",
    "# Run quality assurance\n",
    "run_quality_assurance(df)\n",
    "\n",
    "# Merge in HH and HL data\n",
    "df = merge_hh_hl_data(df, country, year)\n",
    "\n",
    "# Merge in Mother Education data\n",
    "df = merge_mother_edu(df, country, year)\n",
    "\n",
    "# Subset children's file (completed)\n",
    "df = subset_children_file(df, country, year)"
   ]
  },
  {
   "cell_type": "markdown",
   "metadata": {},
   "source": [
    "#### Create Indicators"
   ]
  },
  {
   "cell_type": "code",
   "execution_count": 5,
   "metadata": {},
   "outputs": [],
   "source": [
    "# --- Child Sex [sex_ch] --- #\n",
    "df = create_sex_ch(df, country, year)\n",
    "\n",
    "# --- Mother Education [mother_edu] --- #\n",
    "df = create_mother_edu(df, country, year, recode = 'children')\n",
    "\n",
    "# --- Age categories [ch_age_cat_X] --- #\n",
    "df = create_ch_age_cat(df, country, year)"
   ]
  },
  {
   "cell_type": "code",
   "execution_count": 6,
   "metadata": {},
   "outputs": [],
   "source": [
    "# --- Exclusive BF [excl_bf] --- #\n",
    "df = create_excl_bf(df, country, year)\n",
    "\n",
    "# --- Continued Breastfeeding 12-23 mos [cont_1223_bf] --- #\n",
    "df = create_cont_1223_bf(df)\n",
    "\n",
    "# --- Minimum Dietary Diversity [mdd_ch] --- #\n",
    "df = create_mdd_ch(df, country, year)\n",
    "\n",
    "# --- Minimum Meal Frequency [mmf_ch] --- #\n",
    "df = create_mmf_ch(df, country, year)\n",
    "\n",
    "# --- Minimum Acceptable Diet [mad_ch] --- #\n",
    "df = create_mad_ch(df)"
   ]
  },
  {
   "cell_type": "markdown",
   "metadata": {},
   "source": [
    "#### ANTHROPOMETRY"
   ]
  },
  {
   "cell_type": "code",
   "execution_count": 7,
   "metadata": {},
   "outputs": [],
   "source": [
    "# --- Child Stunting (< -2SD) [stunting_ch] --- #\n",
    "df = create_stunting_ch(df, country, year)\n",
    "\n",
    "# --- Child Wasting (< -2SD) [wasting_ch] --- #\n",
    "df = create_wasting_ch(df, country, year)\n",
    "\n",
    "# --- Child Overweight (> 2SD) [overweight_ch] --- #\n",
    "df = create_overweight_ch(df, country, year)"
   ]
  },
  {
   "cell_type": "code",
   "execution_count": 8,
   "metadata": {},
   "outputs": [
    {
     "data": {
      "text/html": [
       "<div>\n",
       "<style scoped>\n",
       "    .dataframe tbody tr th:only-of-type {\n",
       "        vertical-align: middle;\n",
       "    }\n",
       "\n",
       "    .dataframe tbody tr th {\n",
       "        vertical-align: top;\n",
       "    }\n",
       "\n",
       "    .dataframe thead th {\n",
       "        text-align: right;\n",
       "    }\n",
       "</style>\n",
       "<table border=\"1\" class=\"dataframe\">\n",
       "  <thead>\n",
       "    <tr style=\"text-align: right;\">\n",
       "      <th></th>\n",
       "      <th>overweight_ch</th>\n",
       "      <th>Weighted_Count</th>\n",
       "    </tr>\n",
       "    <tr>\n",
       "      <th>region</th>\n",
       "      <th></th>\n",
       "      <th></th>\n",
       "    </tr>\n",
       "  </thead>\n",
       "  <tbody>\n",
       "    <tr>\n",
       "      <th>Central</th>\n",
       "      <td>3.3</td>\n",
       "      <td>5609.6</td>\n",
       "    </tr>\n",
       "    <tr>\n",
       "      <th>North</th>\n",
       "      <td>4.4</td>\n",
       "      <td>3683.8</td>\n",
       "    </tr>\n",
       "    <tr>\n",
       "      <th>South</th>\n",
       "      <td>2.7</td>\n",
       "      <td>2426.6</td>\n",
       "    </tr>\n",
       "  </tbody>\n",
       "</table>\n",
       "</div>"
      ],
      "text/plain": [
       "         overweight_ch  Weighted_Count\n",
       "region                                \n",
       "Central            3.3          5609.6\n",
       "North              4.4          3683.8\n",
       "South              2.7          2426.6"
      ]
     },
     "execution_count": 8,
     "metadata": {},
     "output_type": "execute_result"
    }
   ],
   "source": [
    "var = 'overweight_ch'\n",
    "ind_vars = ['region']\n",
    "weight = ['chweight']\n",
    "\n",
    "output_mean_table(df, var, ind_vars, weight)"
   ]
  },
  {
   "cell_type": "markdown",
   "metadata": {},
   "source": [
    "#### Subset and export working dataset"
   ]
  },
  {
   "cell_type": "code",
   "execution_count": null,
   "metadata": {},
   "outputs": [],
   "source": [
    "export_analyzed_data(df, country, year, recode)"
   ]
  },
  {
   "cell_type": "markdown",
   "metadata": {},
   "source": [
    "### --- 2014 ---"
   ]
  },
  {
   "cell_type": "code",
   "execution_count": null,
   "metadata": {},
   "outputs": [],
   "source": [
    "# Set parameters\n",
    "country = 'VNM'\n",
    "recode = 'children'\n",
    "\n",
    "# -------------------------------------------------------------------\n",
    "year = '2014'\n",
    "# -------------------------------------------------------------------"
   ]
  },
  {
   "cell_type": "code",
   "execution_count": null,
   "metadata": {},
   "outputs": [],
   "source": [
    "# Read file\n",
    "df = read_spss_file(country, year, recode)\n",
    "\n",
    "# Create HHID to facilitate merge of HH and HL data\n",
    "generate_HHID(df, country, year, recode)\n",
    "\n",
    "# Create WMID to facilitate merge into U5 file\n",
    "generate_MOMID(df, country, year)\n",
    "\n",
    "# Add Total, Year\n",
    "add_total_year(df, year)\n",
    "\n",
    "# Run quality assurance\n",
    "run_quality_assurance(df)\n",
    "\n",
    "# Merge in HH and HL data\n",
    "df = merge_hh_hl_data(df, country, year)\n",
    "\n",
    "# Merge in Mother Education data\n",
    "df = merge_mother_edu(df, country, year)\n",
    "\n",
    "# Subset children's file (completed)\n",
    "df = subset_children_file(df, country, year)"
   ]
  },
  {
   "cell_type": "markdown",
   "metadata": {},
   "source": [
    "#### Create indicators"
   ]
  },
  {
   "cell_type": "code",
   "execution_count": null,
   "metadata": {},
   "outputs": [],
   "source": [
    "# --- Child Sex [sex_ch] --- #\n",
    "df = create_sex_ch(df, country, year)\n",
    "\n",
    "# --- Mother Education [mother_edu] --- #\n",
    "df = create_mother_edu(df, country, year, recode='children')\n",
    "\n",
    "# --- Age categories [ch_age_cat_X] --- #\n",
    "df = create_ch_age_cat(df, country, year)"
   ]
  },
  {
   "cell_type": "code",
   "execution_count": null,
   "metadata": {},
   "outputs": [],
   "source": [
    "# --- Exclusive BF [excl_bf] --- #\n",
    "df = create_excl_bf(df, country, year)\n",
    "\n",
    "# --- Continued Breastfeeding 12-23 mos [cont_1223_bf] --- #\n",
    "df = create_cont_1223_bf(df)\n",
    "\n",
    "# --- Minimum Dietary Diversity [mdd_ch] --- #\n",
    "df = create_mdd_ch(df, country, year)\n",
    "\n",
    "# --- Minimum Meal Frequency [mmf_ch] --- #\n",
    "df = create_mmf_ch(df, country, year)\n",
    "\n",
    "# --- Minimum Acceptable Diet [mad_ch] --- #\n",
    "df = create_mad_ch(df)"
   ]
  },
  {
   "cell_type": "markdown",
   "metadata": {},
   "source": [
    "#### Subset and export working dataset"
   ]
  },
  {
   "cell_type": "code",
   "execution_count": null,
   "metadata": {},
   "outputs": [],
   "source": [
    "export_analyzed_data(df, country, year, recode)"
   ]
  },
  {
   "cell_type": "markdown",
   "metadata": {},
   "source": [
    "### --- 2011 ---"
   ]
  },
  {
   "cell_type": "code",
   "execution_count": null,
   "metadata": {},
   "outputs": [],
   "source": [
    "# Set parameters\n",
    "country = 'VNM'\n",
    "recode = 'children'\n",
    "\n",
    "# -------------------------------------------------------------------\n",
    "year = '2011'\n",
    "# -------------------------------------------------------------------"
   ]
  },
  {
   "cell_type": "code",
   "execution_count": null,
   "metadata": {},
   "outputs": [],
   "source": [
    "# Read file\n",
    "df = read_spss_file(country, year, recode)\n",
    "\n",
    "# Create HHID to facilitate merge of HH and HL data\n",
    "generate_HHID(df, country, year, recode)\n",
    "\n",
    "# Create WMID to facilitate merge into U5 file\n",
    "generate_MOMID(df, country, year)\n",
    "\n",
    "# Add Total, Year\n",
    "add_total_year(df, year)\n",
    "\n",
    "# Run quality assurance\n",
    "run_quality_assurance(df)\n",
    "\n",
    "# Merge in HH and HL data\n",
    "df = merge_hh_hl_data(df, country, year)\n",
    "\n",
    "# Merge in Mother Education data\n",
    "df = merge_mother_edu(df, country, year)\n",
    "\n",
    "# Subset children's file (completed)\n",
    "df = subset_children_file(df, country, year)"
   ]
  },
  {
   "cell_type": "markdown",
   "metadata": {},
   "source": [
    "#### Create indicators"
   ]
  },
  {
   "cell_type": "code",
   "execution_count": null,
   "metadata": {},
   "outputs": [],
   "source": [
    "# --- Child Sex [sex_ch] --- #\n",
    "df = create_sex_ch(df, country, year)\n",
    "\n",
    "# --- Mother Education [mother_edu] --- #\n",
    "df = create_mother_edu(df, country, year, recode='children')\n",
    "\n",
    "# --- Age categories [ch_age_cat_X] --- #\n",
    "df = create_ch_age_cat(df, country, year)"
   ]
  },
  {
   "cell_type": "code",
   "execution_count": null,
   "metadata": {},
   "outputs": [],
   "source": [
    "# --- Exclusive BF [excl_bf] --- #\n",
    "df = create_excl_bf(df, country, year)\n",
    "\n",
    "# --- Continued Breastfeeding 12-23 mos [cont_1223_bf] --- #\n",
    "df = create_cont_1223_bf(df)\n",
    "\n",
    "# # --- Minimum Dietary Diversity [mdd_ch] --- #\n",
    "# df = create_mdd_ch(df, country, year)\n",
    "\n",
    "# --- Minimum Meal Frequency [mmf_ch] --- #\n",
    "df = create_mmf_ch(df, country, year)\n",
    "\n",
    "# # --- Minimum Acceptable Diet [mad_ch] --- #\n",
    "# df = create_mad_ch(df)"
   ]
  },
  {
   "cell_type": "markdown",
   "metadata": {},
   "source": [
    "#### Subset and export working dataset"
   ]
  },
  {
   "cell_type": "code",
   "execution_count": null,
   "metadata": {},
   "outputs": [],
   "source": [
    "export_analyzed_data(df, country, year, recode)"
   ]
  },
  {
   "cell_type": "markdown",
   "metadata": {},
   "source": [
    "### --- 2006 ---"
   ]
  },
  {
   "cell_type": "code",
   "execution_count": null,
   "metadata": {},
   "outputs": [],
   "source": [
    "# Set parameters\n",
    "country = 'VNM'\n",
    "recode = 'children'\n",
    "\n",
    "# -------------------------------------------------------------------\n",
    "year = '2006'\n",
    "# -------------------------------------------------------------------"
   ]
  },
  {
   "cell_type": "code",
   "execution_count": null,
   "metadata": {},
   "outputs": [],
   "source": [
    "# Read file\n",
    "df = read_spss_file(country, year, recode)\n",
    "\n",
    "# Create HHID to facilitate merge of HH and HL data\n",
    "generate_HHID(df, country, year, recode)\n",
    "\n",
    "# Create WMID to facilitate merge into U5 file\n",
    "generate_MOMID(df, country, year)\n",
    "\n",
    "# Add Total, Year\n",
    "add_total_year(df, year)\n",
    "\n",
    "# Run quality assurance\n",
    "run_quality_assurance(df)\n",
    "\n",
    "# Merge in HH and HL data\n",
    "df = merge_hh_hl_data(df, country, year)\n",
    "\n",
    "# Merge in Mother Education data\n",
    "df = merge_mother_edu(df, country, year)\n",
    "\n",
    "# Subset children's file (completed)\n",
    "df = subset_children_file(df, country, year)"
   ]
  },
  {
   "cell_type": "markdown",
   "metadata": {},
   "source": [
    "#### Create indicators"
   ]
  },
  {
   "cell_type": "code",
   "execution_count": null,
   "metadata": {},
   "outputs": [],
   "source": [
    "# --- Child Sex [sex_ch] --- #\n",
    "df = create_sex_ch(df, country, year)\n",
    "\n",
    "# --- Mother Education [mother_edu] --- #\n",
    "df = create_mother_edu(df, country, year, recode='children')\n",
    "\n",
    "# --- Age categories [ch_age_cat_X] --- #\n",
    "df = create_ch_age_cat(df, country, year)"
   ]
  },
  {
   "cell_type": "code",
   "execution_count": null,
   "metadata": {},
   "outputs": [],
   "source": [
    "# --- Exclusive BF [excl_bf] --- #\n",
    "df = create_excl_bf(df, country, year)\n",
    "\n",
    "# --- Continued Breastfeeding 12-23 mos [cont_1223_bf] --- #\n",
    "df = create_cont_1223_bf(df)\n",
    "\n",
    "# # --- Minimum Dietary Diversity [mdd_ch] --- #\n",
    "# df = create_mdd_ch(df, country, year)\n",
    "\n",
    "# # --- Minimum Meal Frequency [mmf_ch] --- #\n",
    "# df = create_mmf_ch(df, country, year)\n",
    "\n",
    "# # --- Minimum Acceptable Diet [mad_ch] --- #\n",
    "# df = create_mad_ch(df)"
   ]
  },
  {
   "cell_type": "markdown",
   "metadata": {},
   "source": [
    "#### Subset and export working dataset"
   ]
  },
  {
   "cell_type": "code",
   "execution_count": null,
   "metadata": {},
   "outputs": [],
   "source": [
    "export_analyzed_data(df, country, year, recode)"
   ]
  },
  {
   "cell_type": "markdown",
   "metadata": {},
   "source": [
    "### --- 2000 ---"
   ]
  },
  {
   "cell_type": "code",
   "execution_count": null,
   "metadata": {},
   "outputs": [],
   "source": [
    "# Set parameters\n",
    "country = 'VNM'\n",
    "recode = 'children'\n",
    "\n",
    "# -------------------------------------------------------------------\n",
    "year = '2000'\n",
    "# -------------------------------------------------------------------"
   ]
  },
  {
   "cell_type": "code",
   "execution_count": null,
   "metadata": {},
   "outputs": [],
   "source": [
    "# Read file\n",
    "df = read_spss_file(country, year, recode)\n",
    "\n",
    "# Create HHID to facilitate merge of HH and HL data\n",
    "generate_HHID(df, country, year, recode)\n",
    "\n",
    "# Create WMID to facilitate merge into U5 file\n",
    "generate_MOMID(df, country, year)\n",
    "\n",
    "# Add Total, Year\n",
    "add_total_year(df, year)\n",
    "\n",
    "# Run quality assurance\n",
    "run_quality_assurance(df)\n",
    "\n",
    "# Merge in HH and HL data\n",
    "df = merge_hh_hl_data(df, country, year)\n",
    "\n",
    "# Merge in Mother Education data\n",
    "df = merge_mother_edu(df, country, year)\n",
    "\n",
    "# Subset children's file (completed)\n",
    "df = subset_children_file(df, country, year)"
   ]
  },
  {
   "cell_type": "markdown",
   "metadata": {},
   "source": [
    "#### Create indicators"
   ]
  },
  {
   "cell_type": "code",
   "execution_count": null,
   "metadata": {},
   "outputs": [],
   "source": [
    "# --- Child Sex [sex_ch] --- #\n",
    "df = create_sex_ch(df, country, year)\n",
    "\n",
    "# --- Mother Education [mother_edu] --- #\n",
    "df = create_mother_edu(df, country, year, recode='children')\n",
    "\n",
    "# --- Age categories [ch_age_cat_X] --- #\n",
    "df = create_ch_age_cat(df, country, year)"
   ]
  },
  {
   "cell_type": "code",
   "execution_count": null,
   "metadata": {},
   "outputs": [],
   "source": [
    "# --- Exclusive BF [excl_bf] --- #\n",
    "df = create_excl_bf(df, country, year)\n",
    "\n",
    "# --- Continued Breastfeeding 12-23 mos [cont_1223_bf] --- #\n",
    "df = create_cont_1223_bf(df)\n",
    "\n",
    "# # --- Minimum Dietary Diversity [mdd_ch] --- #\n",
    "# df = create_mdd_ch(df, country, year)\n",
    "\n",
    "# # --- Minimum Meal Frequency [mmf_ch] --- #\n",
    "# df = create_mmf_ch(df, country, year)\n",
    "\n",
    "# # --- Minimum Acceptable Diet [mad_ch] --- #\n",
    "# df = create_mad_ch(df)"
   ]
  },
  {
   "cell_type": "markdown",
   "metadata": {},
   "source": [
    "#### Subset and export working dataset"
   ]
  },
  {
   "cell_type": "code",
   "execution_count": null,
   "metadata": {},
   "outputs": [],
   "source": [
    "export_analyzed_data(df, country, year, recode)"
   ]
  },
  {
   "cell_type": "code",
   "execution_count": null,
   "metadata": {},
   "outputs": [],
   "source": []
  },
  {
   "cell_type": "code",
   "execution_count": null,
   "metadata": {},
   "outputs": [],
   "source": []
  },
  {
   "cell_type": "code",
   "execution_count": null,
   "metadata": {},
   "outputs": [],
   "source": []
  },
  {
   "cell_type": "code",
   "execution_count": null,
   "metadata": {},
   "outputs": [],
   "source": []
  }
 ],
 "metadata": {
  "interpreter": {
   "hash": "d1219f75a05e3de399f75b6a0fa3fc1e1cfa3d08777c7149c1fd01787d780976"
  },
  "kernelspec": {
   "display_name": "Python 3.10.4 64-bit",
   "language": "python",
   "name": "python3"
  },
  "language_info": {
   "codemirror_mode": {
    "name": "ipython",
    "version": 3
   },
   "file_extension": ".py",
   "mimetype": "text/x-python",
   "name": "python",
   "nbconvert_exporter": "python",
   "pygments_lexer": "ipython3",
   "version": "3.10.4"
  },
  "orig_nbformat": 4
 },
 "nbformat": 4,
 "nbformat_minor": 2
}
