{
 "cells": [
  {
   "cell_type": "markdown",
   "metadata": {},
   "source": [
    "## Extract HH variables for equity stratifiers\n",
    "### ** Residence, Region, Wealth, Ethnicity of HoH **"
   ]
  },
  {
   "cell_type": "code",
   "execution_count": 1,
   "metadata": {},
   "outputs": [],
   "source": [
    "from std_utils import (\n",
    "    read_spss_file,\n",
    "    generate_HHID,\n",
    "    standardize_col_names,\n",
    "    standardize_col_values,\n",
    "    save_merge\n",
    ")\n",
    "\n",
    "import pandas as pd\n",
    "import json\n",
    "\n",
    "from aw_analytics import output_mean_table"
   ]
  },
  {
   "cell_type": "code",
   "execution_count": 2,
   "metadata": {},
   "outputs": [],
   "source": [
    "# Set parameters\n",
    "country = 'LAO'\n",
    "recode = 'household'\n",
    "var_rename = ['residence', 'region', 'wealth', 'eth_hoh']\n",
    "\n",
    "# -------------------------------------------------------------------\n",
    "year_list = ['2000', '2006', '2012', '2017']\n",
    "# -------------------------------------------------------------------\n"
   ]
  },
  {
   "cell_type": "code",
   "execution_count": 3,
   "metadata": {},
   "outputs": [
    {
     "name": "stdout",
     "output_type": "stream",
     "text": [
      "The file -- hh_2000.sav -- has the following shape: Rows: 6449; Columns: 65\n",
      "HHID is unique\n",
      "The file -- hh_2006.sav -- has the following shape: Rows: 5995; Columns: 133\n",
      "HHID is unique\n",
      "The file -- hh_2012.sav -- has the following shape: Rows: 19960; Columns: 119\n",
      "HHID is unique\n",
      "The file -- hh_2017.sav -- has the following shape: Rows: 23299; Columns: 314\n",
      "HHID is unique\n"
     ]
    }
   ],
   "source": [
    "for year in year_list:\n",
    "\n",
    "    if year in ['2017']:\n",
    "        var_replace = ['residence', 'wealth']\n",
    "\n",
    "    elif year == '2006':\n",
    "        var_replace = ['residence', 'region', 'wealth']\n",
    "        \n",
    "    else:\n",
    "        var_replace = ['residence', 'wealth', 'eth_hoh']\n",
    "\n",
    "    # Read file\n",
    "    df = read_spss_file(country, year, recode)\n",
    "\n",
    "    # Create HHID to facilitate merge of HH and HL data\n",
    "    generate_HHID(df, country, year, recode)\n",
    "\n",
    "    # Standardize column names\n",
    "    df = standardize_col_names(df, country, year, recode, var_rename)\n",
    "\n",
    "    # Standardize column values\n",
    "    df = standardize_col_values(df, country, year, recode, var_replace)\n",
    "\n",
    "    # Save to merge folder\n",
    "    save_merge(df, country, year, recode)"
   ]
  },
  {
   "cell_type": "code",
   "execution_count": null,
   "metadata": {},
   "outputs": [],
   "source": []
  }
 ],
 "metadata": {
  "interpreter": {
   "hash": "d1219f75a05e3de399f75b6a0fa3fc1e1cfa3d08777c7149c1fd01787d780976"
  },
  "kernelspec": {
   "display_name": "Python 3.10.4 64-bit",
   "language": "python",
   "name": "python3"
  },
  "language_info": {
   "codemirror_mode": {
    "name": "ipython",
    "version": 3
   },
   "file_extension": ".py",
   "mimetype": "text/x-python",
   "name": "python",
   "nbconvert_exporter": "python",
   "pygments_lexer": "ipython3",
   "version": "3.10.4"
  },
  "orig_nbformat": 4
 },
 "nbformat": 4,
 "nbformat_minor": 2
}
