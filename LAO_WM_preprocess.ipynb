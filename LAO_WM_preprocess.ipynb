{
 "cells": [
  {
   "cell_type": "markdown",
   "metadata": {},
   "source": [
    "# Alive & Thrive\n",
    "## Laos Data: Women Files - Preprocessing\n",
    "## Prepared by Aaron Wise; aaron@a3di.dev\n",
    "### Version: 16 August 2022"
   ]
  },
  {
   "cell_type": "code",
   "execution_count": 1,
   "metadata": {},
   "outputs": [],
   "source": [
    "from std_utils import (\n",
    "    read_spss_file,\n",
    "    generate_HHID,\n",
    "    add_total_year,\n",
    "    run_quality_assurance,\n",
    "    merge_hh_hl_data,\n",
    "    export_analyzed_data\n",
    ")\n",
    "\n",
    "from women_analysis import (\n",
    "    subset_women_file,\n",
    "    create_mother_edu,\n",
    "    create_anc_4_visits,\n",
    "    create_anc_3_components,\n",
    "    create_inst_delivery,\n",
    "    create_caesarean_del,\n",
    "    create_pnc_mother,\n",
    "    create_low_bw,\n",
    "    create_early_bf,\n",
    "    create_iron_supp,\n",
    "    update_no_response\n",
    ")\n",
    "\n",
    "from aw_analytics import output_mean_table\n",
    "\n",
    "import numpy as np\n",
    "import pandas as pd"
   ]
  },
  {
   "cell_type": "markdown",
   "metadata": {},
   "source": [
    "### --- 2017 ---"
   ]
  },
  {
   "cell_type": "code",
   "execution_count": null,
   "metadata": {},
   "outputs": [],
   "source": [
    "# Set parameters\n",
    "country = 'LAO'\n",
    "recode = 'women'\n",
    "\n",
    "# -------------------------------------------------------------------\n",
    "year = '2017'\n",
    "# -------------------------------------------------------------------"
   ]
  },
  {
   "cell_type": "code",
   "execution_count": null,
   "metadata": {},
   "outputs": [],
   "source": [
    "# Read file\n",
    "df = read_spss_file(country, year, recode)\n",
    "\n",
    "# Create HHID to facilitate merge of HH and HL data\n",
    "generate_HHID(df, country, year, recode)\n",
    "\n",
    "# Add Total, Year\n",
    "add_total_year(df, year)\n",
    "\n",
    "# Run quality assurance\n",
    "run_quality_assurance(df)\n",
    "\n",
    "# Merge in HH and HL data\n",
    "df = merge_hh_hl_data(df, country, year)\n",
    "\n",
    "# Subset women file\n",
    "df = subset_women_file(df, country, year)"
   ]
  },
  {
   "cell_type": "code",
   "execution_count": null,
   "metadata": {},
   "outputs": [],
   "source": [
    "# --- Clean out NO RESPONSE instances --- #\n",
    "df = update_no_response(df, country, year)"
   ]
  },
  {
   "cell_type": "markdown",
   "metadata": {},
   "source": [
    "#### Create Indicators"
   ]
  },
  {
   "cell_type": "code",
   "execution_count": null,
   "metadata": {},
   "outputs": [],
   "source": [
    "# --- Create Mother edu [mother_edu] --- #\n",
    "df = create_mother_edu(df, country, year, recode)"
   ]
  },
  {
   "cell_type": "code",
   "execution_count": null,
   "metadata": {},
   "outputs": [],
   "source": [
    "# --- ANC 4+ visits [anc_4_visits] --- #\n",
    "df = create_anc_4_visits(df, country, year)\n",
    "\n",
    "# --- ANC components [anc_3_components] --- #\n",
    "df = create_anc_3_components(df, country, year)\n",
    "\n",
    "# --- Institutional [inst_delivery] --- #\n",
    "df = create_inst_delivery(df, country, year)\n",
    "\n",
    "# --- Caesarean Delivery [caesarean_del] --- #\n",
    "df = create_caesarean_del(df, country, year)\n",
    "\n",
    "# Post-natal Health Check (mother) [pnc_mother]\n",
    "df = create_pnc_mother(df, country, year)\n",
    "\n",
    "# --- Low birthweight [low_bw] --- #\n",
    "df = create_low_bw(df, country, year)\n",
    "\n",
    "# --- Early Initiation BF [early_bf] --- #\n",
    "df = create_early_bf(df, country, year)\n",
    "\n",
    "# --- Iron Supplementation [iron_supp] --- #\n",
    "df = create_iron_supp(df, country, year)"
   ]
  },
  {
   "cell_type": "markdown",
   "metadata": {},
   "source": [
    "### Export working variables"
   ]
  },
  {
   "cell_type": "code",
   "execution_count": null,
   "metadata": {},
   "outputs": [],
   "source": [
    "export_analyzed_data(df, country, year, recode)"
   ]
  },
  {
   "cell_type": "markdown",
   "metadata": {},
   "source": [
    "### --- 2012 ---"
   ]
  },
  {
   "cell_type": "code",
   "execution_count": 2,
   "metadata": {},
   "outputs": [],
   "source": [
    "# Set parameters\n",
    "country = 'LAO'\n",
    "recode = 'women'\n",
    "\n",
    "# -------------------------------------------------------------------\n",
    "year = '2012'\n",
    "# -------------------------------------------------------------------"
   ]
  },
  {
   "cell_type": "code",
   "execution_count": 3,
   "metadata": {},
   "outputs": [
    {
     "name": "stdout",
     "output_type": "stream",
     "text": [
      "The file -- wm_2012.sav -- has the following shape: Rows: 23937; Columns: 312\n",
      "HHID is NOT unique\n",
      "Drop columns if all values are NaN...\n",
      "Updated -- Rows: 23937; Columns: 315\n",
      "Checking if any rows are duplicates...\n",
      "The are no duplicate rows\n",
      "The number of mothers with a birth in the past two years is: 4444\n"
     ]
    }
   ],
   "source": [
    "# Read file\n",
    "df = read_spss_file(country, year, recode)\n",
    "\n",
    "# Create HHID to facilitate merge of HH and HL data\n",
    "generate_HHID(df, country, year, recode)\n",
    "\n",
    "# Add Total, Year\n",
    "add_total_year(df, year)\n",
    "\n",
    "# Run quality assurance\n",
    "run_quality_assurance(df)\n",
    "\n",
    "# Merge in HH and HL data\n",
    "df = merge_hh_hl_data(df, country, year)\n",
    "\n",
    "# Subset women file\n",
    "df = subset_women_file(df, country, year)"
   ]
  },
  {
   "cell_type": "code",
   "execution_count": 4,
   "metadata": {},
   "outputs": [],
   "source": [
    "# # --- Clean out NO RESPONSE instances --- #\n",
    "# df = update_no_response(df, country, year)"
   ]
  },
  {
   "cell_type": "markdown",
   "metadata": {},
   "source": [
    "#### Create Indicators"
   ]
  },
  {
   "cell_type": "code",
   "execution_count": 5,
   "metadata": {},
   "outputs": [],
   "source": [
    "# --- Create Mother edu [mother_edu] --- #\n",
    "df = create_mother_edu(df, country, year, recode)"
   ]
  },
  {
   "cell_type": "code",
   "execution_count": 6,
   "metadata": {},
   "outputs": [
    {
     "name": "stdout",
     "output_type": "stream",
     "text": [
      "agg_value_prop_dict is: \n",
      " {'Larger than average': 0.010282776349614395, 'Average': 0.08975481611208407, 'Smaller than average': 0.7248062015503876, 'Very large': 0.08653846153846154, 'Missing': 0.022727272727272728, 'Very small': 0.8571428571428571, 'DK': 0.0625}\n"
     ]
    }
   ],
   "source": [
    "# --- ANC 4+ visits [anc_4_visits] --- #\n",
    "df = create_anc_4_visits(df, country, year)\n",
    "\n",
    "# --- ANC components [anc_3_components] --- #\n",
    "df = create_anc_3_components(df, country, year)\n",
    "\n",
    "# --- Institutional [inst_delivery] --- #\n",
    "df = create_inst_delivery(df, country, year)\n",
    "\n",
    "# --- Caesarean Delivery [caesarean_del] --- #\n",
    "df = create_caesarean_del(df, country, year)\n",
    "\n",
    "# Post-natal Health Check (mother) [pnc_mother]\n",
    "df = create_pnc_mother(df, country, year)\n",
    "\n",
    "# --- Low birthweight [low_bw] --- #\n",
    "df = create_low_bw(df, country, year)\n",
    "\n",
    "# --- Early Initiation BF [early_bf] --- #\n",
    "df = create_early_bf(df, country, year)\n",
    "\n",
    "# --- Iron Supplementation [iron_supp] --- #\n",
    "df = create_iron_supp(df, country, year)"
   ]
  },
  {
   "cell_type": "code",
   "execution_count": 7,
   "metadata": {},
   "outputs": [
    {
     "data": {
      "text/html": [
       "<div>\n",
       "<style scoped>\n",
       "    .dataframe tbody tr th:only-of-type {\n",
       "        vertical-align: middle;\n",
       "    }\n",
       "\n",
       "    .dataframe tbody tr th {\n",
       "        vertical-align: top;\n",
       "    }\n",
       "\n",
       "    .dataframe thead th {\n",
       "        text-align: right;\n",
       "    }\n",
       "</style>\n",
       "<table border=\"1\" class=\"dataframe\">\n",
       "  <thead>\n",
       "    <tr style=\"text-align: right;\">\n",
       "      <th></th>\n",
       "      <th>iron_supp</th>\n",
       "      <th>Weighted_Count</th>\n",
       "    </tr>\n",
       "    <tr>\n",
       "      <th>region</th>\n",
       "      <th></th>\n",
       "      <th></th>\n",
       "    </tr>\n",
       "  </thead>\n",
       "  <tbody>\n",
       "    <tr>\n",
       "      <th>Central</th>\n",
       "      <td>56.6</td>\n",
       "      <td>1988.7</td>\n",
       "    </tr>\n",
       "    <tr>\n",
       "      <th>North</th>\n",
       "      <td>44.9</td>\n",
       "      <td>1376.8</td>\n",
       "    </tr>\n",
       "    <tr>\n",
       "      <th>South</th>\n",
       "      <td>46.5</td>\n",
       "      <td>940.3</td>\n",
       "    </tr>\n",
       "  </tbody>\n",
       "</table>\n",
       "</div>"
      ],
      "text/plain": [
       "         iron_supp  Weighted_Count\n",
       "region                            \n",
       "Central       56.6          1988.7\n",
       "North         44.9          1376.8\n",
       "South         46.5           940.3"
      ]
     },
     "execution_count": 7,
     "metadata": {},
     "output_type": "execute_result"
    }
   ],
   "source": [
    "var = 'iron_supp'\n",
    "ind_vars = ['region']\n",
    "wt = 'wmweight'\n",
    "\n",
    "output_mean_table(df, var, ind_vars, wt)"
   ]
  },
  {
   "cell_type": "markdown",
   "metadata": {},
   "source": [
    "### Export working variables"
   ]
  },
  {
   "cell_type": "code",
   "execution_count": null,
   "metadata": {},
   "outputs": [],
   "source": [
    "export_analyzed_data(df, country, year, recode)"
   ]
  },
  {
   "cell_type": "code",
   "execution_count": null,
   "metadata": {},
   "outputs": [],
   "source": [
    "df.MN11A.value_counts(dropna=False)"
   ]
  },
  {
   "cell_type": "code",
   "execution_count": null,
   "metadata": {},
   "outputs": [],
   "source": [
    "df.MN11A = df.MN11A.apply(lambda x: np.nan if x == 'Missing' else x)"
   ]
  },
  {
   "cell_type": "code",
   "execution_count": 9,
   "metadata": {},
   "outputs": [
    {
     "data": {
      "text/plain": [
       "0.0      2223\n",
       "100.0    2149\n",
       "NaN        72\n",
       "Name: iron_supp, dtype: int64"
      ]
     },
     "execution_count": 9,
     "metadata": {},
     "output_type": "execute_result"
    }
   ],
   "source": [
    "df.iron_supp.value_counts(dropna=False)"
   ]
  },
  {
   "cell_type": "code",
   "execution_count": null,
   "metadata": {},
   "outputs": [],
   "source": []
  }
 ],
 "metadata": {
  "interpreter": {
   "hash": "d1219f75a05e3de399f75b6a0fa3fc1e1cfa3d08777c7149c1fd01787d780976"
  },
  "kernelspec": {
   "display_name": "Python 3.10.4 64-bit",
   "language": "python",
   "name": "python3"
  },
  "language_info": {
   "codemirror_mode": {
    "name": "ipython",
    "version": 3
   },
   "file_extension": ".py",
   "mimetype": "text/x-python",
   "name": "python",
   "nbconvert_exporter": "python",
   "pygments_lexer": "ipython3",
   "version": "3.10.4"
  },
  "orig_nbformat": 4
 },
 "nbformat": 4,
 "nbformat_minor": 2
}
