{
 "cells": [
  {
   "cell_type": "markdown",
   "metadata": {},
   "source": [
    "# Alive & Thrive\n",
    "## Laos Data: Women Files - Preprocessing\n",
    "## Prepared by Aaron Wise; aaron@a3di.dev\n",
    "### Version: 16 August 2022"
   ]
  },
  {
   "cell_type": "code",
   "execution_count": null,
   "metadata": {},
   "outputs": [],
   "source": [
    "from std_utils import (\n",
    "    read_spss_file,\n",
    "    generate_HHID,\n",
    "    add_total_year,\n",
    "    run_quality_assurance,\n",
    "    merge_hh_hl_data,\n",
    "    export_analyzed_data\n",
    ")\n",
    "\n",
    "from women_analysis import (\n",
    "    subset_women_file,\n",
    "    create_mother_edu,\n",
    "    create_anc_4_visits,\n",
    "    create_anc_3_components,\n",
    "    create_inst_delivery,\n",
    "    create_caesarean_del,\n",
    "    create_pnc_mother,\n",
    "    create_low_bw,\n",
    "    create_early_bf,\n",
    "    create_iron_supp,\n",
    "    update_no_response\n",
    ")\n",
    "\n",
    "from aw_analytics import output_mean_table\n",
    "\n",
    "import numpy as np\n",
    "import pandas as pd"
   ]
  },
  {
   "cell_type": "markdown",
   "metadata": {},
   "source": [
    "### --- 2017 ---"
   ]
  },
  {
   "cell_type": "code",
   "execution_count": null,
   "metadata": {},
   "outputs": [],
   "source": [
    "# Set parameters\n",
    "country = 'LAO'\n",
    "recode = 'women'\n",
    "\n",
    "# -------------------------------------------------------------------\n",
    "year = '2017'\n",
    "# -------------------------------------------------------------------"
   ]
  },
  {
   "cell_type": "code",
   "execution_count": null,
   "metadata": {},
   "outputs": [],
   "source": [
    "# Read file\n",
    "df = read_spss_file(country, year, recode)\n",
    "\n",
    "# Create HHID to facilitate merge of HH and HL data\n",
    "generate_HHID(df, country, year, recode)\n",
    "\n",
    "# Add Total, Year\n",
    "add_total_year(df, year)\n",
    "\n",
    "# Run quality assurance\n",
    "run_quality_assurance(df)\n",
    "\n",
    "# Merge in HH and HL data\n",
    "df = merge_hh_hl_data(df, country, year)\n",
    "\n",
    "# Subset women file\n",
    "df = subset_women_file(df, country, year)"
   ]
  },
  {
   "cell_type": "code",
   "execution_count": null,
   "metadata": {},
   "outputs": [],
   "source": [
    "# --- Clean out NO RESPONSE instances --- #\n",
    "df = update_no_response(df, country, year)"
   ]
  },
  {
   "cell_type": "markdown",
   "metadata": {},
   "source": [
    "#### Create Indicators"
   ]
  },
  {
   "cell_type": "code",
   "execution_count": null,
   "metadata": {},
   "outputs": [],
   "source": [
    "# --- Create Mother edu [mother_edu] --- #\n",
    "df = create_mother_edu(df, country, year, recode)"
   ]
  },
  {
   "cell_type": "code",
   "execution_count": null,
   "metadata": {},
   "outputs": [],
   "source": [
    "# --- ANC 4+ visits [anc_4_visits] --- #\n",
    "df = create_anc_4_visits(df, country, year)\n",
    "\n",
    "# --- ANC components [anc_3_components] --- #\n",
    "df = create_anc_3_components(df, country, year)\n",
    "\n",
    "# --- Institutional [inst_delivery] --- #\n",
    "df = create_inst_delivery(df, country, year)\n",
    "\n",
    "# --- Caesarean Delivery [caesarean_del] --- #\n",
    "df = create_caesarean_del(df, country, year)\n",
    "\n",
    "# Post-natal Health Check (mother) [pnc_mother]\n",
    "df = create_pnc_mother(df, country, year)\n",
    "\n",
    "# --- Low birthweight [low_bw] --- #\n",
    "df = create_low_bw(df, country, year)\n",
    "\n",
    "# --- Early Initiation BF [early_bf] --- #\n",
    "df = create_early_bf(df, country, year)\n",
    "\n",
    "# --- Iron Supplementation [iron_supp] --- #\n",
    "df = create_iron_supp(df, country, year)"
   ]
  },
  {
   "cell_type": "markdown",
   "metadata": {},
   "source": [
    "### Export working variables"
   ]
  },
  {
   "cell_type": "code",
   "execution_count": null,
   "metadata": {},
   "outputs": [],
   "source": [
    "export_analyzed_data(df, country, year, recode)"
   ]
  },
  {
   "cell_type": "markdown",
   "metadata": {},
   "source": [
    "### --- 2012 ---"
   ]
  },
  {
   "cell_type": "code",
   "execution_count": null,
   "metadata": {},
   "outputs": [],
   "source": [
    "# Set parameters\n",
    "country = 'LAO'\n",
    "recode = 'women'\n",
    "\n",
    "# -------------------------------------------------------------------\n",
    "year = '2012'\n",
    "# -------------------------------------------------------------------"
   ]
  },
  {
   "cell_type": "code",
   "execution_count": null,
   "metadata": {},
   "outputs": [],
   "source": [
    "# Read file\n",
    "df = read_spss_file(country, year, recode)\n",
    "\n",
    "# Create HHID to facilitate merge of HH and HL data\n",
    "generate_HHID(df, country, year, recode)\n",
    "\n",
    "# Add Total, Year\n",
    "add_total_year(df, year)\n",
    "\n",
    "# Run quality assurance\n",
    "run_quality_assurance(df)\n",
    "\n",
    "# Merge in HH and HL data\n",
    "df = merge_hh_hl_data(df, country, year)\n",
    "\n",
    "# Subset women file\n",
    "df = subset_women_file(df, country, year)"
   ]
  },
  {
   "cell_type": "code",
   "execution_count": null,
   "metadata": {},
   "outputs": [],
   "source": [
    "# # --- Clean out NO RESPONSE instances --- #\n",
    "# df = update_no_response(df, country, year)"
   ]
  },
  {
   "cell_type": "markdown",
   "metadata": {},
   "source": [
    "#### Create Indicators"
   ]
  },
  {
   "cell_type": "code",
   "execution_count": null,
   "metadata": {},
   "outputs": [],
   "source": [
    "# --- Create Mother edu [mother_edu] --- #\n",
    "df = create_mother_edu(df, country, year, recode)"
   ]
  },
  {
   "cell_type": "code",
   "execution_count": null,
   "metadata": {},
   "outputs": [],
   "source": [
    "# --- ANC 4+ visits [anc_4_visits] --- #\n",
    "df = create_anc_4_visits(df, country, year)\n",
    "\n",
    "# --- ANC components [anc_3_components] --- #\n",
    "df = create_anc_3_components(df, country, year)\n",
    "\n",
    "# --- Institutional [inst_delivery] --- #\n",
    "df = create_inst_delivery(df, country, year)\n",
    "\n",
    "# --- Caesarean Delivery [caesarean_del] --- #\n",
    "df = create_caesarean_del(df, country, year)\n",
    "\n",
    "# Post-natal Health Check (mother) [pnc_mother]\n",
    "df = create_pnc_mother(df, country, year)\n",
    "\n",
    "# --- Low birthweight [low_bw] --- #\n",
    "df = create_low_bw(df, country, year)\n",
    "\n",
    "# --- Early Initiation BF [early_bf] --- #\n",
    "df = create_early_bf(df, country, year)\n",
    "\n",
    "# --- Iron Supplementation [iron_supp] --- #\n",
    "df = create_iron_supp(df, country, year)"
   ]
  },
  {
   "cell_type": "markdown",
   "metadata": {},
   "source": [
    "### Export working variables"
   ]
  },
  {
   "cell_type": "code",
   "execution_count": null,
   "metadata": {},
   "outputs": [],
   "source": [
    "export_analyzed_data(df, country, year, recode)"
   ]
  },
  {
   "cell_type": "markdown",
   "metadata": {},
   "source": [
    "### --- 2006 ---"
   ]
  },
  {
   "cell_type": "code",
   "execution_count": null,
   "metadata": {},
   "outputs": [],
   "source": [
    "# Set parameters\n",
    "country = 'LAO'\n",
    "recode = 'women'\n",
    "\n",
    "# -------------------------------------------------------------------\n",
    "year = '2006'\n",
    "# -------------------------------------------------------------------"
   ]
  },
  {
   "cell_type": "code",
   "execution_count": null,
   "metadata": {},
   "outputs": [],
   "source": [
    "# Read file\n",
    "df = read_spss_file(country, year, recode)\n",
    "\n",
    "# Create HHID to facilitate merge of HH and HL data\n",
    "generate_HHID(df, country, year, recode)\n",
    "\n",
    "# Add Total, Year\n",
    "add_total_year(df, year)\n",
    "\n",
    "# Run quality assurance\n",
    "run_quality_assurance(df)\n",
    "\n",
    "# Merge in HH and HL data\n",
    "df = merge_hh_hl_data(df, country, year)\n",
    "\n",
    "# # Subset women file\n",
    "# df = subset_women_file(df, country, year)"
   ]
  },
  {
   "cell_type": "code",
   "execution_count": null,
   "metadata": {},
   "outputs": [],
   "source": [
    "df.HC1B.value_counts(dropna=False)"
   ]
  },
  {
   "cell_type": "markdown",
   "metadata": {},
   "source": [
    "#### Create Indicators"
   ]
  },
  {
   "cell_type": "code",
   "execution_count": null,
   "metadata": {},
   "outputs": [],
   "source": [
    "# --- Create Mother edu [mother_edu] --- #\n",
    "df = create_mother_edu(df, country, year, recode)"
   ]
  },
  {
   "cell_type": "code",
   "execution_count": null,
   "metadata": {},
   "outputs": [],
   "source": [
    "# --- ANC 4+ visits [anc_4_visits] --- #\n",
    "df = create_anc_4_visits(df, country, year)\n",
    "\n",
    "# --- ANC components [anc_3_components] --- #\n",
    "df = create_anc_3_components(df, country, year)\n",
    "\n",
    "# --- Institutional [inst_delivery] --- #\n",
    "df = create_inst_delivery(df, country, year)\n",
    "\n",
    "# --- Caesarean Delivery [caesarean_del] --- #\n",
    "df = create_caesarean_del(df, country, year)\n",
    "\n",
    "# Post-natal Health Check (mother) [pnc_mother]\n",
    "df = create_pnc_mother(df, country, year)\n",
    "\n",
    "# --- Low birthweight [low_bw] --- #\n",
    "df = create_low_bw(df, country, year)\n",
    "\n",
    "# --- Early Initiation BF [early_bf] --- #\n",
    "df = create_early_bf(df, country, year)\n",
    "\n",
    "# --- Iron Supplementation [iron_supp] --- #\n",
    "df = create_iron_supp(df, country, year)"
   ]
  },
  {
   "cell_type": "code",
   "execution_count": null,
   "metadata": {},
   "outputs": [],
   "source": [
    "var = 'anc_4_visits'\n",
    "ind_vars = ['mother_edu']\n",
    "wt = 'wmweight'\n",
    "\n",
    "output_mean_table(df, var, ind_vars, wt)"
   ]
  },
  {
   "cell_type": "markdown",
   "metadata": {},
   "source": [
    "### Export working variables"
   ]
  },
  {
   "cell_type": "code",
   "execution_count": null,
   "metadata": {},
   "outputs": [],
   "source": [
    "export_analyzed_data(df, country, year, recode)"
   ]
  }
 ],
 "metadata": {
  "interpreter": {
   "hash": "d1219f75a05e3de399f75b6a0fa3fc1e1cfa3d08777c7149c1fd01787d780976"
  },
  "kernelspec": {
   "display_name": "Python 3.10.4 64-bit",
   "language": "python",
   "name": "python3"
  },
  "language_info": {
   "codemirror_mode": {
    "name": "ipython",
    "version": 3
   },
   "file_extension": ".py",
   "mimetype": "text/x-python",
   "name": "python",
   "nbconvert_exporter": "python",
   "pygments_lexer": "ipython3",
   "version": "3.10.4"
  },
  "orig_nbformat": 4
 },
 "nbformat": 4,
 "nbformat_minor": 2
}
