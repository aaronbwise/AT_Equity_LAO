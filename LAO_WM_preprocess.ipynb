{
 "cells": [
  {
   "cell_type": "markdown",
   "metadata": {},
   "source": [
    "# Alive & Thrive\n",
    "## Laos Data: Women Files - Preprocessing\n",
    "## Prepared by Aaron Wise; aaron@a3di.dev\n",
    "### Version: 16 August 2022"
   ]
  },
  {
   "cell_type": "code",
   "execution_count": null,
   "metadata": {},
   "outputs": [],
   "source": [
    "from std_utils import (\n",
    "    read_spss_file,\n",
    "    generate_HHID,\n",
    "    add_total_year,\n",
    "    run_quality_assurance,\n",
    "    merge_hh_hl_data,\n",
    "    export_analyzed_data\n",
    ")\n",
    "\n",
    "from women_analysis import (\n",
    "    subset_women_file,\n",
    "    create_mother_edu,\n",
    "    create_anc_4_visits,\n",
    "    create_anc_3_components,\n",
    "    create_inst_delivery,\n",
    "    create_caesarean_del,\n",
    "    create_pnc_mother,\n",
    "    create_low_bw,\n",
    "    create_early_bf,\n",
    "    create_iron_supp,\n",
    "    update_no_response\n",
    ")\n",
    "\n",
    "from aw_analytics import output_mean_table\n",
    "\n",
    "import pandas as pd"
   ]
  },
  {
   "cell_type": "markdown",
   "metadata": {},
   "source": [
    "### --- 2017 ---"
   ]
  },
  {
   "cell_type": "code",
   "execution_count": null,
   "metadata": {},
   "outputs": [],
   "source": [
    "# Set parameters\n",
    "country = 'LAO'\n",
    "recode = 'women'\n",
    "\n",
    "# -------------------------------------------------------------------\n",
    "year = '2017'\n",
    "# -------------------------------------------------------------------"
   ]
  },
  {
   "cell_type": "code",
   "execution_count": null,
   "metadata": {},
   "outputs": [],
   "source": [
    "# Read file\n",
    "df = read_spss_file(country, year, recode)\n",
    "\n",
    "# Create HHID to facilitate merge of HH and HL data\n",
    "generate_HHID(df, country, year, recode)\n",
    "\n",
    "# Add Total, Year\n",
    "add_total_year(df, year)\n",
    "\n",
    "# Run quality assurance\n",
    "run_quality_assurance(df)\n",
    "\n",
    "# Merge in HH and HL data\n",
    "df = merge_hh_hl_data(df, country, year)\n",
    "\n",
    "# Subset women file\n",
    "df = subset_women_file(df, country, year)"
   ]
  },
  {
   "cell_type": "code",
   "execution_count": null,
   "metadata": {},
   "outputs": [],
   "source": [
    "# --- Clean out NO RESPONSE instances --- #\n",
    "df = update_no_response(df, country, year)"
   ]
  },
  {
   "cell_type": "markdown",
   "metadata": {},
   "source": [
    "#### Create Indicators"
   ]
  },
  {
   "cell_type": "code",
   "execution_count": null,
   "metadata": {},
   "outputs": [],
   "source": [
    "# --- Create Mother edu [mother_edu] --- #\n",
    "df = create_mother_edu(df, country, year, recode)"
   ]
  },
  {
   "cell_type": "code",
   "execution_count": null,
   "metadata": {},
   "outputs": [],
   "source": [
    "# --- ANC 4+ visits [anc_4_visits] --- #\n",
    "df = create_anc_4_visits(df, country, year)\n",
    "\n",
    "# --- ANC components [anc_3_components] --- #\n",
    "df = create_anc_3_components(df, country, year)\n",
    "\n",
    "# --- Institutional [inst_delivery] --- #\n",
    "df = create_inst_delivery(df, country, year)\n",
    "\n",
    "# --- Caesarean Delivery [caesarean_del] --- #\n",
    "df = create_caesarean_del(df, country, year)\n",
    "\n",
    "# Post-natal Health Check (mother) [pnc_mother]\n",
    "df = create_pnc_mother(df, country, year)\n",
    "\n",
    "# --- Low birthweight [low_bw] --- #\n",
    "df = create_low_bw(df, country, year)\n",
    "\n",
    "# --- Early Initiation BF [early_bf] --- #\n",
    "df = create_early_bf(df, country, year)\n",
    "\n",
    "# --- Iron Supplementation [iron_sup] --- #\n"
   ]
  },
  {
   "cell_type": "code",
   "execution_count": null,
   "metadata": {},
   "outputs": [],
   "source": [
    "var = 'early_bf'\n",
    "ind_vars = ['Total']\n",
    "wt = 'wmweight'\n",
    "\n",
    "output_mean_table(df, var, ind_vars, wt)"
   ]
  },
  {
   "cell_type": "code",
   "execution_count": 17,
   "metadata": {},
   "outputs": [
    {
     "data": {
      "text/plain": [
       "CategoricalDtype(categories=[  1.0,   2.0,   3.0,   4.0,   5.0,   6.0,   7.0,   8.0,\n",
       "                    9.0,  10.0,  12.0,  13.0,  14.0,  15.0,  20.0,  21.0,\n",
       "                   24.0,  25.0,  26.0,  30.0,  31.0,  35.0,  40.0,  45.0,\n",
       "                   50.0,  60.0,  65.0,  70.0,  75.0,  80.0,  83.0,  90.0,\n",
       "                   98.0, 100.0, 110.0, 115.0, 120.0, 125.0, 128.0, 130.0,\n",
       "                  140.0, 145.0, 150.0, 160.0, 170.0, 172.0, 180.0, 187.0,\n",
       "                  190.0, 200.0, 210.0, 220.0, 221.0, 224.0, 225.0, 230.0,\n",
       "                  240.0, 250.0, 265.0, 270.0, 280.0, 300.0, 320.0],\n",
       ", ordered=False)"
      ]
     },
     "execution_count": 17,
     "metadata": {},
     "output_type": "execute_result"
    }
   ],
   "source": [
    "df.MN14D.dtypes\n"
   ]
  },
  {
   "cell_type": "markdown",
   "metadata": {},
   "source": [
    "### Anaemia"
   ]
  },
  {
   "cell_type": "code",
   "execution_count": null,
   "metadata": {},
   "outputs": [],
   "source": [
    "# --- Anaemia [wm_anaemia] --- #\n"
   ]
  },
  {
   "cell_type": "markdown",
   "metadata": {},
   "source": [
    "### Export working variables"
   ]
  },
  {
   "cell_type": "code",
   "execution_count": null,
   "metadata": {},
   "outputs": [],
   "source": [
    "export_analyzed_data(df, country, year, recode)"
   ]
  },
  {
   "cell_type": "markdown",
   "metadata": {},
   "source": [
    "### --- 2014 ---"
   ]
  },
  {
   "cell_type": "code",
   "execution_count": null,
   "metadata": {},
   "outputs": [],
   "source": [
    "# Set parameters\n",
    "country = 'VNM'\n",
    "recode = 'women'\n",
    "\n",
    "# -------------------------------------------------------------------\n",
    "year = '2014'\n",
    "# -------------------------------------------------------------------"
   ]
  },
  {
   "cell_type": "code",
   "execution_count": null,
   "metadata": {},
   "outputs": [],
   "source": [
    "# Read file\n",
    "df = read_spss_file(country, year, recode)\n",
    "\n",
    "# Create HHID to facilitate merge of HH and HL data\n",
    "generate_HHID(df, country, year, recode)\n",
    "\n",
    "# Add Total, Year\n",
    "add_total_year(df, year)\n",
    "\n",
    "# Run quality assurance\n",
    "run_quality_assurance(df)\n",
    "\n",
    "# Merge in HH and HL data\n",
    "df = merge_hh_hl_data(df, country, year)\n",
    "\n",
    "# Subset women file\n",
    "df = subset_women_file(df, country, year)"
   ]
  },
  {
   "cell_type": "code",
   "execution_count": null,
   "metadata": {},
   "outputs": [],
   "source": [
    "# --- Create Mother edu [mother_edu] --- #\n",
    "df = create_mother_edu(df, country, year, recode)"
   ]
  },
  {
   "cell_type": "code",
   "execution_count": null,
   "metadata": {},
   "outputs": [],
   "source": [
    "# --- ANC 4+ visits [anc_4_visits] --- #\n",
    "df = create_anc_4_visits(df, country, year)\n",
    "\n",
    "# --- ANC components [anc_3_components] --- #\n",
    "df = create_anc_3_components(df, country, year)\n",
    "\n",
    "# --- Institutional [inst_delivery] --- #\n",
    "df = create_inst_delivery(df, country, year)\n",
    "\n",
    "# --- Caesarean Delivery [caesarean_del] --- #\n",
    "df = create_caesarean_del(df, country, year)\n",
    "\n",
    "# Post-natal Health Check (mother) [pnc_mother]\n",
    "df = create_pnc_mother(df, country, year)\n",
    "\n",
    "# --- Low birthweight [low_bw] --- #\n",
    "df = create_low_bw(df, country, year)\n",
    "\n",
    "# --- Early Initiation BF [early_bf] --- #\n",
    "df = create_early_bf(df, country, year)"
   ]
  },
  {
   "cell_type": "markdown",
   "metadata": {},
   "source": [
    "#### Export working variables"
   ]
  },
  {
   "cell_type": "code",
   "execution_count": null,
   "metadata": {},
   "outputs": [],
   "source": [
    "export_analyzed_data(df, country, year, recode)"
   ]
  },
  {
   "cell_type": "markdown",
   "metadata": {},
   "source": [
    "### --- 2011 ---"
   ]
  },
  {
   "cell_type": "code",
   "execution_count": null,
   "metadata": {},
   "outputs": [],
   "source": [
    "# Set parameters\n",
    "country = 'VNM'\n",
    "recode = 'women'\n",
    "\n",
    "# -------------------------------------------------------------------\n",
    "year = '2011'\n",
    "# -------------------------------------------------------------------"
   ]
  },
  {
   "cell_type": "code",
   "execution_count": null,
   "metadata": {},
   "outputs": [],
   "source": [
    "# Read file\n",
    "df = read_spss_file(country, year, recode)\n",
    "\n",
    "# Create HHID to facilitate merge of HH and HL data\n",
    "generate_HHID(df, country, year, recode)\n",
    "\n",
    "# Add Total, Year\n",
    "add_total_year(df, year)\n",
    "\n",
    "# Run quality assurance\n",
    "run_quality_assurance(df)\n",
    "\n",
    "# Merge in HH and HL data\n",
    "df = merge_hh_hl_data(df, country, year)\n",
    "\n",
    "# Subset women file\n",
    "df = subset_women_file(df, country, year)"
   ]
  },
  {
   "cell_type": "markdown",
   "metadata": {},
   "source": [
    "#### Create Indicators"
   ]
  },
  {
   "cell_type": "code",
   "execution_count": null,
   "metadata": {},
   "outputs": [],
   "source": [
    "# --- Create Mother edu [mother_edu] --- #\n",
    "df = create_mother_edu(df, country, year, recode)"
   ]
  },
  {
   "cell_type": "code",
   "execution_count": null,
   "metadata": {},
   "outputs": [],
   "source": [
    "# --- ANC 4+ visits [anc_4_visits] --- #\n",
    "df = create_anc_4_visits(df, country, year)\n",
    "\n",
    "# --- ANC components [anc_3_components] --- #\n",
    "df = create_anc_3_components(df, country, year)\n",
    "\n",
    "# --- Institutional [inst_delivery] --- #\n",
    "df = create_inst_delivery(df, country, year)\n",
    "\n",
    "# --- Caesarean Delivery [caesarean_del] --- #\n",
    "df = create_caesarean_del(df, country, year)\n",
    "\n",
    "# # Post-natal Health Check (mother) [pnc_mother]\n",
    "# df = create_pnc_mother(df, country, year)\n",
    "\n",
    "# --- Low birthweight [low_bw] --- #\n",
    "df = create_low_bw(df, country, year)\n",
    "\n",
    "# --- Early Initiation BF [early_bf] --- #\n",
    "df = create_early_bf(df, country, year)"
   ]
  },
  {
   "cell_type": "markdown",
   "metadata": {},
   "source": [
    "### Export working variables"
   ]
  },
  {
   "cell_type": "code",
   "execution_count": null,
   "metadata": {},
   "outputs": [],
   "source": [
    "export_analyzed_data(df, country, year, recode)"
   ]
  },
  {
   "cell_type": "markdown",
   "metadata": {},
   "source": [
    "### --- 2006 ---"
   ]
  },
  {
   "cell_type": "code",
   "execution_count": null,
   "metadata": {},
   "outputs": [],
   "source": [
    "# Set parameters\n",
    "country = 'VNM'\n",
    "recode = 'women'\n",
    "\n",
    "# -------------------------------------------------------------------\n",
    "year = '2006'\n",
    "# -------------------------------------------------------------------"
   ]
  },
  {
   "cell_type": "code",
   "execution_count": null,
   "metadata": {},
   "outputs": [],
   "source": [
    "# Read file\n",
    "df = read_spss_file(country, year, recode)\n",
    "\n",
    "# Create HHID to facilitate merge of HH and HL data\n",
    "generate_HHID(df, country, year, recode)\n",
    "\n",
    "# Add Total, Year\n",
    "add_total_year(df, year)\n",
    "\n",
    "# Run quality assurance\n",
    "run_quality_assurance(df)\n",
    "\n",
    "# Merge in HH and HL data\n",
    "df = merge_hh_hl_data(df, country, year)\n",
    "\n",
    "# Subset women file\n",
    "df = subset_women_file(df, country, year)"
   ]
  },
  {
   "cell_type": "markdown",
   "metadata": {},
   "source": [
    "#### Create Indicators"
   ]
  },
  {
   "cell_type": "code",
   "execution_count": null,
   "metadata": {},
   "outputs": [],
   "source": [
    "# --- Create Mother edu [mother_edu] --- #\n",
    "df = create_mother_edu(df, country, year, recode)"
   ]
  },
  {
   "cell_type": "code",
   "execution_count": null,
   "metadata": {},
   "outputs": [],
   "source": [
    "# # --- ANC 4+ visits [anc_4_visits] --- #\n",
    "# df = create_anc_4_visits(df, country, year)\n",
    "\n",
    "# --- ANC components [anc_3_components] --- #\n",
    "df = create_anc_3_components(df, country, year)\n",
    "\n",
    "# --- Institutional [inst_delivery] --- #\n",
    "df = create_inst_delivery(df, country, year)\n",
    "\n",
    "# # --- Caesarean Delivery [caesarean_del] --- #\n",
    "# df = create_caesarean_del(df, country, year)\n",
    "\n",
    "# # Post-natal Health Check (mother) [pnc_mother]\n",
    "# df = create_pnc_mother(df, country, year)\n",
    "\n",
    "# --- Low birthweight [low_bw] --- #\n",
    "df = create_low_bw(df, country, year)\n",
    "\n",
    "# --- Early Initiation BF [early_bf] --- #\n",
    "df = create_early_bf(df, country, year)"
   ]
  },
  {
   "cell_type": "markdown",
   "metadata": {},
   "source": [
    "### Export working variables"
   ]
  },
  {
   "cell_type": "code",
   "execution_count": null,
   "metadata": {},
   "outputs": [],
   "source": [
    "export_analyzed_data(df, country, year, recode)"
   ]
  },
  {
   "cell_type": "markdown",
   "metadata": {},
   "source": [
    "### --- 2000 ---"
   ]
  },
  {
   "cell_type": "code",
   "execution_count": null,
   "metadata": {},
   "outputs": [],
   "source": [
    "# Set parameters\n",
    "country = 'VNM'\n",
    "recode = 'women'\n",
    "\n",
    "# -------------------------------------------------------------------\n",
    "year = '2000'\n",
    "# -------------------------------------------------------------------"
   ]
  },
  {
   "cell_type": "code",
   "execution_count": null,
   "metadata": {},
   "outputs": [],
   "source": [
    "# Read file\n",
    "df = read_spss_file(country, year, recode)\n",
    "\n",
    "# Create HHID to facilitate merge of HH and HL data\n",
    "generate_HHID(df, country, year, recode)\n",
    "\n",
    "# Add Total, Year\n",
    "add_total_year(df, year)\n",
    "\n",
    "# Run quality assurance\n",
    "run_quality_assurance(df)\n",
    "\n",
    "# Merge in HH and HL data\n",
    "df = merge_hh_hl_data(df, country, year)\n",
    "\n",
    "# Subset women file\n",
    "df = subset_women_file(df, country, year)"
   ]
  },
  {
   "cell_type": "markdown",
   "metadata": {},
   "source": [
    "#### Create Indicators"
   ]
  },
  {
   "cell_type": "code",
   "execution_count": null,
   "metadata": {},
   "outputs": [],
   "source": [
    "# --- Create Mother edu [mother_edu] --- #\n",
    "df = create_mother_edu(df, country, year, recode)"
   ]
  },
  {
   "cell_type": "code",
   "execution_count": null,
   "metadata": {},
   "outputs": [],
   "source": [
    "# # --- ANC 4+ visits [anc_4_visits] --- #\n",
    "# df = create_anc_4_visits(df, country, year)\n",
    "\n",
    "# # --- ANC components [anc_3_components] --- #\n",
    "# df = create_anc_3_components(df, country, year)\n",
    "\n",
    "# # --- Institutional [inst_delivery] --- #\n",
    "# df = create_inst_delivery(df, country, year)\n",
    "\n",
    "# # --- Caesarean Delivery [caesarean_del] --- #\n",
    "# df = create_caesarean_del(df, country, year)\n",
    "\n",
    "# # Post-natal Health Check (mother) [pnc_mother]\n",
    "# df = create_pnc_mother(df, country, year)\n",
    "\n",
    "# --- Low birthweight [low_bw] --- #\n",
    "df = create_low_bw(df, country, year)\n",
    "\n",
    "# # --- Early Initiation BF [early_bf] --- #\n",
    "# df = create_early_bf(df, country, year)"
   ]
  },
  {
   "cell_type": "markdown",
   "metadata": {},
   "source": [
    "### Export working variables"
   ]
  },
  {
   "cell_type": "code",
   "execution_count": null,
   "metadata": {},
   "outputs": [],
   "source": [
    "export_analyzed_data(df, country, year, recode)"
   ]
  },
  {
   "cell_type": "code",
   "execution_count": null,
   "metadata": {},
   "outputs": [],
   "source": []
  }
 ],
 "metadata": {
  "interpreter": {
   "hash": "d1219f75a05e3de399f75b6a0fa3fc1e1cfa3d08777c7149c1fd01787d780976"
  },
  "kernelspec": {
   "display_name": "Python 3.10.4 64-bit",
   "language": "python",
   "name": "python3"
  },
  "language_info": {
   "codemirror_mode": {
    "name": "ipython",
    "version": 3
   },
   "file_extension": ".py",
   "mimetype": "text/x-python",
   "name": "python",
   "nbconvert_exporter": "python",
   "pygments_lexer": "ipython3",
   "version": "3.10.4"
  },
  "orig_nbformat": 4
 },
 "nbformat": 4,
 "nbformat_minor": 2
}
