{
 "cells": [
  {
   "cell_type": "markdown",
   "metadata": {},
   "source": [
    "# Alive & Thrive\n",
    "## Laos Data: Women Files - Haemoglobin - Preprocessing\n",
    "## Prepared by Aaron Wise; aaron@a3di.dev\n",
    "### Version: 8 September 2022"
   ]
  },
  {
   "cell_type": "code",
   "execution_count": 1,
   "metadata": {},
   "outputs": [],
   "source": [
    "from std_utils import (\n",
    "    read_spss_file,\n",
    "    generate_HHID,\n",
    "    add_total_year,\n",
    "    run_quality_assurance,\n",
    "    merge_hh_hl_data,\n",
    "    export_analyzed_data\n",
    ")\n",
    "\n",
    "from women_analysis import (\n",
    "    create_mother_edu,\n",
    "    create_woman_anaemia,\n",
    "    update_no_response\n",
    ")\n",
    "\n",
    "from aw_analytics import output_mean_table"
   ]
  },
  {
   "cell_type": "markdown",
   "metadata": {},
   "source": [
    "### --- 2017 ---"
   ]
  },
  {
   "cell_type": "code",
   "execution_count": 2,
   "metadata": {},
   "outputs": [],
   "source": [
    "# Set parameters\n",
    "country = 'LAO'\n",
    "recode = 'women'\n",
    "\n",
    "# -------------------------------------------------------------------\n",
    "year = '2017'\n",
    "# -------------------------------------------------------------------"
   ]
  },
  {
   "cell_type": "code",
   "execution_count": 3,
   "metadata": {},
   "outputs": [
    {
     "name": "stdout",
     "output_type": "stream",
     "text": [
      "The file -- wm_2017.sav -- has the following shape: Rows: 26088; Columns: 409\n",
      "HHID is NOT unique\n",
      "Drop columns if all values are NaN...\n",
      "Updated -- Rows: 26088; Columns: 412\n",
      "Checking if any rows are duplicates...\n",
      "The are no duplicate rows\n"
     ]
    }
   ],
   "source": [
    "# Read file\n",
    "df = read_spss_file(country, year, recode)\n",
    "\n",
    "# Create HHID to facilitate merge of HH and HL data\n",
    "generate_HHID(df, country, year, recode)\n",
    "\n",
    "# Add Total, Year\n",
    "add_total_year(df, year)\n",
    "\n",
    "# Run quality assurance\n",
    "run_quality_assurance(df)\n",
    "\n",
    "# Merge in HH and HL data\n",
    "df = merge_hh_hl_data(df, country, year)"
   ]
  },
  {
   "cell_type": "code",
   "execution_count": 4,
   "metadata": {},
   "outputs": [],
   "source": [
    "# --- Clean out NO RESPONSE instances --- #\n",
    "df = update_no_response(df, country, year)"
   ]
  },
  {
   "cell_type": "markdown",
   "metadata": {},
   "source": [
    "### Create Indicators"
   ]
  },
  {
   "cell_type": "code",
   "execution_count": 5,
   "metadata": {},
   "outputs": [],
   "source": [
    "# --- Create Mother edu [mother_edu] --- #\n",
    "df = create_mother_edu(df, country, year, recode)"
   ]
  },
  {
   "cell_type": "code",
   "execution_count": 6,
   "metadata": {},
   "outputs": [],
   "source": [
    "# --- Anaemia [wm_anaemia] --- #\n",
    "df = create_woman_anaemia(df, country, year)"
   ]
  },
  {
   "cell_type": "code",
   "execution_count": 8,
   "metadata": {},
   "outputs": [],
   "source": [
    "export_analyzed_data(df, country, year, recode, anaemia=True)"
   ]
  },
  {
   "cell_type": "code",
   "execution_count": null,
   "metadata": {},
   "outputs": [],
   "source": [
    "var = 'wm_anaemia'\n",
    "ind_vars = ['region']\n",
    "wt = 'wmweight'\n",
    "\n",
    "output_mean_table(df, var, ind_vars, wt)"
   ]
  },
  {
   "cell_type": "code",
   "execution_count": null,
   "metadata": {},
   "outputs": [],
   "source": []
  }
 ],
 "metadata": {
  "kernelspec": {
   "display_name": "Python 3.10.4 64-bit",
   "language": "python",
   "name": "python3"
  },
  "language_info": {
   "codemirror_mode": {
    "name": "ipython",
    "version": 3
   },
   "file_extension": ".py",
   "mimetype": "text/x-python",
   "name": "python",
   "nbconvert_exporter": "python",
   "pygments_lexer": "ipython3",
   "version": "3.10.4"
  },
  "orig_nbformat": 4,
  "vscode": {
   "interpreter": {
    "hash": "d1219f75a05e3de399f75b6a0fa3fc1e1cfa3d08777c7149c1fd01787d780976"
   }
  }
 },
 "nbformat": 4,
 "nbformat_minor": 2
}
