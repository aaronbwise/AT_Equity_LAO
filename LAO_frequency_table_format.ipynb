{
 "cells": [
  {
   "cell_type": "code",
   "execution_count": 1,
   "metadata": {},
   "outputs": [],
   "source": [
    "from pathlib import Path\n",
    "\n",
    "import numpy as np\n",
    "import pandas as pd\n",
    "\n",
    "from tabulate_vars import freq_concat\n",
    "\n",
    "pd.set_option(\"display.max_rows\", 1500)\n",
    "pd.set_option(\"display.max_columns\", None)"
   ]
  },
  {
   "cell_type": "code",
   "execution_count": 2,
   "metadata": {},
   "outputs": [],
   "source": [
    "# Setup parameters\n",
    "country = 'LAO'\n",
    "year_list = ['2000', '2006', '2012', '2017']\n"
   ]
  },
  {
   "cell_type": "markdown",
   "metadata": {},
   "source": [
    "## Children"
   ]
  },
  {
   "cell_type": "code",
   "execution_count": 3,
   "metadata": {},
   "outputs": [
    {
     "name": "stdout",
     "output_type": "stream",
     "text": [
      "Warning: Var: mdd_ch column for year: 2000 does not exist\n",
      "Warning: Var: mdd_ch column for year: 2006 does not exist\n",
      "Warning: Var: mdd_ch column for year: 2012 does not exist\n",
      "Warning: Var: mmf_ch column for year: 2000 does not exist\n",
      "Warning: Var: mmf_ch column for year: 2006 does not exist\n",
      "Warning: Var: mad_ch column for year: 2000 does not exist\n",
      "Warning: Var: mad_ch column for year: 2006 does not exist\n",
      "Warning: Var: mad_ch column for year: 2012 does not exist\n"
     ]
    }
   ],
   "source": [
    "# Setup sheets\n",
    "recode = 'children'\n",
    "\n",
    "dep_vars = ['excl_bf', 'cont_1223_bf', 'mdd_ch', 'mmf_ch', 'mad_ch', 'stunting_ch', 'wasting_ch', 'overweight_ch']\n",
    "\n",
    "index_vals = [\n",
    "    'Total', 'CH Sex: Female', 'CH Sex: Male', 'Rural', 'Urban', 'Central', 'North', 'South',\n",
    "    \"Mother Edu: None/ECE\", 'Mother Edu: Primary', 'Mother Edu: Secondary', 'Mother Edu: Higher',\n",
    "    'Poorest', 'Poor', 'Middle', 'Rich', 'Richest', 'Lao-Tai', 'Chinese-Tibetan', 'Hmong-Mien',\n",
    "    'Mon-Khmer', 'Other, DK, Missing', 'Elderly HoH: NO', 'Elderly HoH: YES', 'Female', 'Male', \n",
    "]\n",
    "\n",
    "freq_concat(country, recode, dep_vars, year_list, index_vals)"
   ]
  },
  {
   "cell_type": "markdown",
   "metadata": {},
   "source": [
    "## Women"
   ]
  },
  {
   "cell_type": "code",
   "execution_count": null,
   "metadata": {},
   "outputs": [],
   "source": [
    "recode = 'women'\n",
    "\n",
    "dep_vars = ['anc_4_visits', 'anc_3_components', 'inst_delivery', 'caesarean_del', 'pnc_mother', 'low_bw', 'early_bf', 'iron_supp']\n",
    "\n",
    "index_vals = [\n",
    "    'Total', 'Rural', 'Urban', 'Central', 'North', 'South',\n",
    "    \"Mother Edu: None/ECE\", 'Mother Edu: Primary', 'Mother Edu: Secondary', 'Mother Edu: Higher',\n",
    "    'Poorest', 'Poor', 'Middle', 'Rich', 'Richest', 'Lao-Tai', 'Chinese-Tibetan', 'Hmong-Mien',\n",
    "    'Mon-Khmer', 'Other, DK, Missing', 'Elderly HoH: NO', 'Elderly HoH: YES', 'Female', 'Male', \n",
    "]\n",
    "\n",
    "freq_concat(country, recode, dep_vars, year_list, index_vals)"
   ]
  },
  {
   "cell_type": "code",
   "execution_count": null,
   "metadata": {},
   "outputs": [],
   "source": []
  }
 ],
 "metadata": {
  "kernelspec": {
   "display_name": "Python 3.10.4 64-bit",
   "language": "python",
   "name": "python3"
  },
  "language_info": {
   "codemirror_mode": {
    "name": "ipython",
    "version": 3
   },
   "file_extension": ".py",
   "mimetype": "text/x-python",
   "name": "python",
   "nbconvert_exporter": "python",
   "pygments_lexer": "ipython3",
   "version": "3.10.4"
  },
  "orig_nbformat": 4,
  "vscode": {
   "interpreter": {
    "hash": "d1219f75a05e3de399f75b6a0fa3fc1e1cfa3d08777c7149c1fd01787d780976"
   }
  }
 },
 "nbformat": 4,
 "nbformat_minor": 2
}
